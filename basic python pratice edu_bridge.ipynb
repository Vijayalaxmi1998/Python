{
 "cells": [
  {
   "cell_type": "markdown",
   "id": "8c5ce531-d69e-435e-9ab5-4a0e9ebe4112",
   "metadata": {},
   "source": [
    "# welcome program in programming"
   ]
  },
  {
   "cell_type": "code",
   "execution_count": 3,
   "id": "0b9def72-d541-486a-b543-ece4803d84a1",
   "metadata": {},
   "outputs": [
    {
     "name": "stdin",
     "output_type": "stream",
     "text": [
      "what is your name vijayalaxmi\n"
     ]
    },
    {
     "name": "stdout",
     "output_type": "stream",
     "text": [
      "hi welcome vijayalaxmi, for this python programming\n"
     ]
    }
   ],
   "source": [
    "name=input(\"what is your name\")\n",
    "print(\"hi welcome {}, for this python programming\".format(name))"
   ]
  },
  {
   "cell_type": "code",
   "execution_count": 6,
   "id": "dcf05398-20cb-41e3-80ab-675cc22b78d6",
   "metadata": {},
   "outputs": [
    {
     "name": "stdin",
     "output_type": "stream",
     "text": [
      "what is your name vijayalaxmi\n",
      "surname kaleguddi\n"
     ]
    },
    {
     "name": "stdout",
     "output_type": "stream",
     "text": [
      "hi welcome kaleguddi vijayalaxmi, for this python programming\n"
     ]
    }
   ],
   "source": [
    "name1=input(\"what is your name\")\n",
    "name2=input(\"surname\")\n",
    "print(\"hi welcome {1} {0}, for this python programming\".format(name1,name2))"
   ]
  },
  {
   "cell_type": "markdown",
   "id": "3b1060ee-1e94-49a2-a778-c907e363fe9c",
   "metadata": {},
   "source": [
    "# python intentation"
   ]
  },
  {
   "cell_type": "code",
   "execution_count": 13,
   "id": "791c57a4-acbb-4d19-a347-6b3ad4fdcee8",
   "metadata": {},
   "outputs": [],
   "source": [
    "def myfunc(a,b):\n",
    "    if a%2==0 and b%2==0:\n",
    "        if a>b:\n",
    "            return b\n",
    "        else:\n",
    "            return a\n",
    "    if a%2!=0 or b%2!=0:\n",
    "        if a>b:\n",
    "            return a\n",
    "        else:\n",
    "            return b"
   ]
  },
  {
   "cell_type": "code",
   "execution_count": 14,
   "id": "7ce6ac3d-d2a7-415d-aa28-4a792d6c0ef4",
   "metadata": {},
   "outputs": [
    {
     "data": {
      "text/plain": [
       "'VIJYALAXMI'"
      ]
     },
     "execution_count": 14,
     "metadata": {},
     "output_type": "execute_result"
    }
   ],
   "source": [
    "\"vijyalaxmi\".upper()"
   ]
  },
  {
   "cell_type": "code",
   "execution_count": 15,
   "id": "6a83477a-3c36-412f-a2db-0f4a76caae3d",
   "metadata": {},
   "outputs": [
    {
     "data": {
      "text/plain": [
       "str"
      ]
     },
     "execution_count": 15,
     "metadata": {},
     "output_type": "execute_result"
    }
   ],
   "source": [
    "type(\"vijayalaxmi\")"
   ]
  },
  {
   "cell_type": "markdown",
   "id": "3b76922c-7485-4a0f-9668-3dfeb20c600a",
   "metadata": {},
   "source": [
    "# python identifier\n",
    "1) variable\n",
    "2)function\n",
    "3) class"
   ]
  },
  {
   "cell_type": "code",
   "execution_count": 19,
   "id": "ba50bd14-12ba-4a6d-894c-7d845c901524",
   "metadata": {},
   "outputs": [
    {
     "name": "stdout",
     "output_type": "stream",
     "text": [
      "<class 'int'>\n",
      "<class 'float'>\n"
     ]
    }
   ],
   "source": [
    "#variable\n",
    "x=10\n",
    "print(type(x))\n",
    "fl_value=123.456    # fl_value and x are identifier\n",
    "fl_value\n",
    "print(type(fl_value))"
   ]
  },
  {
   "cell_type": "code",
   "execution_count": 27,
   "id": "9fc0740f-a064-4cdb-9f1b-697402dc9578",
   "metadata": {},
   "outputs": [
    {
     "ename": "IndentationError",
     "evalue": "unexpected indent (Temp/ipykernel_12776/1064647827.py, line 2)",
     "output_type": "error",
     "traceback": [
      "\u001b[1;36m  File \u001b[1;32m\"C:\\Users\\Disk\\AppData\\Local\\Temp/ipykernel_12776/1064647827.py\"\u001b[1;36m, line \u001b[1;32m2\u001b[0m\n\u001b[1;33m    def displaydata():\u001b[0m\n\u001b[1;37m    ^\u001b[0m\n\u001b[1;31mIndentationError\u001b[0m\u001b[1;31m:\u001b[0m unexpected indent\n"
     ]
    }
   ],
   "source": [
    " # function \n",
    "    def displaydata():\n",
    "        print(data)            # displaydata is a identifier for function"
   ]
  },
  {
   "cell_type": "code",
   "execution_count": 25,
   "id": "95cdf7bd-fec4-44eb-926c-1fed83abf767",
   "metadata": {},
   "outputs": [
    {
     "ename": "NameError",
     "evalue": "name 'displaydata' is not defined",
     "output_type": "error",
     "traceback": [
      "\u001b[1;31m---------------------------------------------------------------------------\u001b[0m",
      "\u001b[1;31mNameError\u001b[0m                                 Traceback (most recent call last)",
      "\u001b[1;32m~\\AppData\\Local\\Temp/ipykernel_12776/2001661452.py\u001b[0m in \u001b[0;36m<module>\u001b[1;34m\u001b[0m\n\u001b[0;32m      1\u001b[0m \u001b[0mxdata\u001b[0m\u001b[1;33m=\u001b[0m \u001b[1;34m\"this the one data\"\u001b[0m\u001b[1;33m\u001b[0m\u001b[1;33m\u001b[0m\u001b[0m\n\u001b[1;32m----> 2\u001b[1;33m \u001b[0mdisplaydata\u001b[0m\u001b[1;33m(\u001b[0m\u001b[0mxdata\u001b[0m\u001b[1;33m)\u001b[0m\u001b[1;33m\u001b[0m\u001b[1;33m\u001b[0m\u001b[0m\n\u001b[0m",
      "\u001b[1;31mNameError\u001b[0m: name 'displaydata' is not defined"
     ]
    }
   ],
   "source": [
    "def\n",
    "xdata= \"this the one data\"\n",
    " displaydata(xdata)"
   ]
  },
  {
   "cell_type": "code",
   "execution_count": 29,
   "id": "ab465821-f338-4c64-a5c3-70b7272ed302",
   "metadata": {},
   "outputs": [],
   "source": [
    "class Employee:\n",
    "    pass             #employee is a identifier for class"
   ]
  },
  {
   "cell_type": "markdown",
   "id": "969627ae-58ee-45ab-965a-c092fd0f8ee2",
   "metadata": {},
   "source": [
    "# python keywords"
   ]
  },
  {
   "cell_type": "code",
   "execution_count": 32,
   "id": "76f72721-07b4-432f-8307-b8f46ebf4b84",
   "metadata": {},
   "outputs": [
    {
     "name": "stdout",
     "output_type": "stream",
     "text": [
      "['False', 'None', 'True', '__peg_parser__', 'and', 'as', 'assert', 'async', 'await', 'break', 'class', 'continue', 'def', 'del', 'elif', 'else', 'except', 'finally', 'for', 'from', 'global', 'if', 'import', 'in', 'is', 'lambda', 'nonlocal', 'not', 'or', 'pass', 'raise', 'return', 'try', 'while', 'with', 'yield']\n"
     ]
    }
   ],
   "source": [
    "import keyword as kw\n",
    "print(kw.kwlist)"
   ]
  },
  {
   "cell_type": "code",
   "execution_count": 33,
   "id": "4e79709c-c5c7-46e7-b51c-6027abeb99a3",
   "metadata": {},
   "outputs": [
    {
     "name": "stdout",
     "output_type": "stream",
     "text": [
      "36\n"
     ]
    }
   ],
   "source": [
    "print(len(kw.kwlist))"
   ]
  },
  {
   "cell_type": "code",
   "execution_count": 36,
   "id": "447cf6e7-432a-46aa-a1c5-a3a8dda9b445",
   "metadata": {},
   "outputs": [],
   "source": [
    "a=3\n",
    "b=a\n",
    "c=a"
   ]
  },
  {
   "cell_type": "code",
   "execution_count": 39,
   "id": "d83b4882-913c-480f-bae9-82c17c5a1bfb",
   "metadata": {},
   "outputs": [
    {
     "name": "stdout",
     "output_type": "stream",
     "text": [
      "2449938907888\n",
      "2449896139120\n",
      "2449896139120\n"
     ]
    }
   ],
   "source": [
    "print(id(a))\n",
    "print(id(b))\n",
    "print(id(c))"
   ]
  },
  {
   "cell_type": "code",
   "execution_count": 38,
   "id": "d2fce27a-4383-4f5d-8af9-837ee3647860",
   "metadata": {},
   "outputs": [],
   "source": [
    "a=\"python\""
   ]
  },
  {
   "cell_type": "markdown",
   "id": "3d508ffa-367f-4665-bdd7-57c8bd63bb2e",
   "metadata": {},
   "source": [
    "# string"
   ]
  },
  {
   "cell_type": "code",
   "execution_count": 41,
   "id": "1e682c50-6bf6-4207-a858-ddb84589ece4",
   "metadata": {},
   "outputs": [
    {
     "name": "stdout",
     "output_type": "stream",
     "text": [
      "<class 'str'>\n"
     ]
    }
   ],
   "source": [
    "s1=\"python programming\"\n",
    "print(type(s1))"
   ]
  },
  {
   "cell_type": "markdown",
   "id": "d514697d-aa5e-4deb-90ba-e6a114a926f6",
   "metadata": {},
   "source": [
    "### string indexing"
   ]
  },
  {
   "cell_type": "code",
   "execution_count": 42,
   "id": "791caffc-82b2-410b-aa37-9400a7bb07fb",
   "metadata": {},
   "outputs": [
    {
     "name": "stdout",
     "output_type": "stream",
     "text": [
      "h\n"
     ]
    }
   ],
   "source": [
    "print(s1[3])     #positive indexing"
   ]
  },
  {
   "cell_type": "code",
   "execution_count": 44,
   "id": "95e7ce7c-daad-4518-850b-709a9a55896a",
   "metadata": {},
   "outputs": [
    {
     "name": "stdout",
     "output_type": "stream",
     "text": [
      "i\n"
     ]
    }
   ],
   "source": [
    "print(s1[-3])    #negative indexing"
   ]
  },
  {
   "cell_type": "code",
   "execution_count": 45,
   "id": "df7d6e55-8210-4671-a4ff-b975b28daf12",
   "metadata": {},
   "outputs": [
    {
     "data": {
      "text/plain": [
       "'python'"
      ]
     },
     "execution_count": 45,
     "metadata": {},
     "output_type": "execute_result"
    }
   ],
   "source": [
    "# positive slicing\n",
    "s1[0:6]"
   ]
  },
  {
   "cell_type": "code",
   "execution_count": 46,
   "id": "a1fb6fbc-9985-4cd8-808f-d92ebb30cffa",
   "metadata": {},
   "outputs": [
    {
     "data": {
      "text/plain": [
       "'ph'"
      ]
     },
     "execution_count": 46,
     "metadata": {},
     "output_type": "execute_result"
    }
   ],
   "source": [
    "s1[:6:3]"
   ]
  },
  {
   "cell_type": "code",
   "execution_count": 49,
   "id": "bbf67cd4-8cfb-4bb8-8c22-7f0b7fd293ef",
   "metadata": {},
   "outputs": [
    {
     "data": {
      "text/plain": [
       "'python'"
      ]
     },
     "execution_count": 49,
     "metadata": {},
     "output_type": "execute_result"
    }
   ],
   "source": [
    "#negative slicing\n",
    "s1[:-12]"
   ]
  },
  {
   "cell_type": "code",
   "execution_count": 55,
   "id": "d820febb-9ded-46ce-97c5-f968c26a9296",
   "metadata": {},
   "outputs": [
    {
     "data": {
      "text/plain": [
       "'gnimmargorp nohtyp'"
      ]
     },
     "execution_count": 55,
     "metadata": {},
     "output_type": "execute_result"
    }
   ],
   "source": [
    "s1[::-1]"
   ]
  },
  {
   "cell_type": "markdown",
   "id": "79a5cf98-b958-4637-9ca1-b5fc6dfb8047",
   "metadata": {},
   "source": [
    "## string is immutable"
   ]
  },
  {
   "cell_type": "markdown",
   "id": "2f48fbd5-9209-43cf-af2a-fdd19b39f164",
   "metadata": {},
   "source": [
    "### string operation"
   ]
  },
  {
   "cell_type": "code",
   "execution_count": 59,
   "id": "4eaa091e-4a5c-4dca-9599-aee03fe374bc",
   "metadata": {},
   "outputs": [
    {
     "data": {
      "text/plain": [
       "'python programming'"
      ]
     },
     "execution_count": 59,
     "metadata": {},
     "output_type": "execute_result"
    }
   ],
   "source": [
    "s2=\"python \"\n",
    "s2+\"programming\""
   ]
  },
  {
   "cell_type": "code",
   "execution_count": 60,
   "id": "183629c4-323d-446e-9277-e969c3270006",
   "metadata": {},
   "outputs": [
    {
     "data": {
      "text/plain": [
       "'python python python python '"
      ]
     },
     "execution_count": 60,
     "metadata": {},
     "output_type": "execute_result"
    }
   ],
   "source": [
    "s2*4"
   ]
  },
  {
   "cell_type": "code",
   "execution_count": 65,
   "id": "2e5ef283-bf18-4011-ae76-eac82a214641",
   "metadata": {},
   "outputs": [
    {
     "data": {
      "text/plain": [
       "'{Vijayalaxmi Gurubasu Kaleguddi} '"
      ]
     },
     "execution_count": 65,
     "metadata": {},
     "output_type": "execute_result"
    }
   ],
   "source": [
    "s3=\"{Vijayalaxmi \"\n",
    "s4=\"Gurubasu \"\n",
    "s5=\"Kaleguddi} \"\n",
    "s3+s4+s5"
   ]
  },
  {
   "cell_type": "code",
   "execution_count": 66,
   "id": "b835c35b-780b-46eb-8a6a-d0f8e4826d96",
   "metadata": {},
   "outputs": [
    {
     "data": {
      "text/plain": [
       "'{Vijayalaxmi Gurubasu Kaleguddi} {Vijayalaxmi Gurubasu Kaleguddi} {Vijayalaxmi Gurubasu Kaleguddi} {Vijayalaxmi Gurubasu Kaleguddi} {Vijayalaxmi Gurubasu Kaleguddi} {Vijayalaxmi Gurubasu Kaleguddi} {Vijayalaxmi Gurubasu Kaleguddi} {Vijayalaxmi Gurubasu Kaleguddi} {Vijayalaxmi Gurubasu Kaleguddi} {Vijayalaxmi Gurubasu Kaleguddi} '"
      ]
     },
     "execution_count": 66,
     "metadata": {},
     "output_type": "execute_result"
    }
   ],
   "source": [
    "(s3+s4+s5)*10\n"
   ]
  },
  {
   "cell_type": "code",
   "execution_count": null,
   "id": "349b4018-b510-4dd0-814e-3a0e14b0391a",
   "metadata": {},
   "outputs": [],
   "source": []
  }
 ],
 "metadata": {
  "kernelspec": {
   "display_name": "Python 3 (ipykernel)",
   "language": "python",
   "name": "python3"
  },
  "language_info": {
   "codemirror_mode": {
    "name": "ipython",
    "version": 3
   },
   "file_extension": ".py",
   "mimetype": "text/x-python",
   "name": "python",
   "nbconvert_exporter": "python",
   "pygments_lexer": "ipython3",
   "version": "3.9.7"
  }
 },
 "nbformat": 4,
 "nbformat_minor": 5
}
