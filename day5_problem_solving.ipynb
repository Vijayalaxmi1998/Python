{
 "cells": [
  {
   "cell_type": "markdown",
   "id": "74f19699-4e65-421b-9022-67329556dc2b",
   "metadata": {},
   "source": [
    "Task\n",
    "Given an integer, , perform the following conditional actions:\n",
    "If is odd, print Weird\n",
    "If is even and in the inclusive range of to , print Not Weird\n",
    "If is even and in the inclusive range of to , print Weird\n",
    "If is even and greater than , print Not Weird\n",
    "Input Format\n",
    "A single line containing a positive integer, .\n",
    "Constraints\n",
    "1<=n<=100\n",
    "Output Format"
   ]
  },
  {
   "cell_type": "code",
   "execution_count": 4,
   "id": "4c5a393b-11ae-4137-8fe2-f3482a5d7068",
   "metadata": {},
   "outputs": [
    {
     "name": "stdin",
     "output_type": "stream",
     "text": [
      "enter the no: 6\n"
     ]
    },
    {
     "name": "stdout",
     "output_type": "stream",
     "text": [
      "weird\n"
     ]
    }
   ],
   "source": [
    "n=int(input('enter the no:'))\n",
    "if n%2!=0:\n",
    "    print('weird')\n",
    "if n%2==0:\n",
    "    if 2<=n<=5:\n",
    "        print('not weird')\n",
    "    elif 6<=n<=20:\n",
    "        print('weird')\n",
    "    elif n>20:\n",
    "        print('not weird')"
   ]
  },
  {
   "cell_type": "code",
   "execution_count": 5,
   "id": "d9dc9889-cba3-42d7-88e8-578734c0f262",
   "metadata": {},
   "outputs": [
    {
     "name": "stdin",
     "output_type": "stream",
     "text": [
      "enter the number 7\n"
     ]
    },
    {
     "name": "stdout",
     "output_type": "stream",
     "text": [
      "1   1   1   1\n",
      "2   2   2   10\n",
      "3   3   3   11\n",
      "4   4   4   100\n",
      "5   5   5   101\n",
      "6   6   6   110\n",
      "7   7   7   111\n"
     ]
    }
   ],
   "source": [
    "n=int(input(\"enter the number\"))\n",
    "for i in range(1,n+1) :\n",
    "    print (i,\" \",oct(i)[2:],\" \",hex(i)[2:].upper(),\" \",bin(i)[2:])"
   ]
  },
  {
   "cell_type": "code",
   "execution_count": 3,
   "id": "3a2bf228-f6c3-40dd-b11d-6a18e2ee69ad",
   "metadata": {},
   "outputs": [
    {
     "name": "stdin",
     "output_type": "stream",
     "text": [
      "enter the number 17\n"
     ]
    },
    {
     "name": "stdout",
     "output_type": "stream",
     "text": [
      "1   1   1   1\n",
      "2   2   2   10\n",
      "3   3   3   11\n",
      "4   4   4   100\n",
      "5   5   5   101\n",
      "6   6   6   110\n",
      "7   7   7   111\n",
      "8   10   8   1000\n",
      "9   11   9   1001\n",
      "10   12   A   1010\n",
      "11   13   B   1011\n",
      "12   14   C   1100\n",
      "13   15   D   1101\n",
      "14   16   E   1110\n",
      "15   17   F   1111\n",
      "16   20   10   10000\n",
      "17   21   11   10001\n"
     ]
    }
   ],
   "source": [
    "n=int(input(\"enter the number\"))\n",
    "for i in range(1,n+1) :\n",
    "    print (i,\" \",oct(i)[2:],\" \",hex(i)[2:].upper(),\" \",bin(i)[2:])"
   ]
  },
  {
   "cell_type": "code",
   "execution_count": 8,
   "id": "80204e72-8c14-472f-917c-8ffea6e413b0",
   "metadata": {},
   "outputs": [
    {
     "name": "stdin",
     "output_type": "stream",
     "text": [
      "enter the number 7\n"
     ]
    },
    {
     "name": "stdout",
     "output_type": "stream",
     "text": [
      "1\t1\t1\t1\n",
      "2\t2\t2\t10\n",
      "3\t3\t3\t11\n",
      "4\t4\t4\t100\n",
      "5\t5\t5\t101\n",
      "6\t6\t6\t110\n",
      "7\t7\t7\t111\n"
     ]
    }
   ],
   "source": [
    "n=int(input(\"enter the number\"))\n",
    "for i in range(1,n+1) :\n",
    "    #print (i,\" \",oct(i)[2:],\" \",hex(i)[2:].upper(),\" \",bin(i)[2:])\n",
    "    print (\"{}\\t{}\\t{}\\t{}\".format(i,oct(i)[2:],hex(i)[2:].upper(),bin(i)[2:]) )\n"
   ]
  },
  {
   "cell_type": "code",
   "execution_count": null,
   "id": "e9d2ca6a-a9e6-45d3-ae46-4a7a581da164",
   "metadata": {},
   "outputs": [],
   "source": []
  }
 ],
 "metadata": {
  "kernelspec": {
   "display_name": "Python 3 (ipykernel)",
   "language": "python",
   "name": "python3"
  },
  "language_info": {
   "codemirror_mode": {
    "name": "ipython",
    "version": 3
   },
   "file_extension": ".py",
   "mimetype": "text/x-python",
   "name": "python",
   "nbconvert_exporter": "python",
   "pygments_lexer": "ipython3",
   "version": "3.9.7"
  }
 },
 "nbformat": 4,
 "nbformat_minor": 5
}
