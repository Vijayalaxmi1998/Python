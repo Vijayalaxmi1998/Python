{
 "cells": [
  {
   "cell_type": "markdown",
   "id": "5fd71174-0037-4bd8-9215-0f979b1137e6",
   "metadata": {},
   "source": [
    "# the for loop"
   ]
  },
  {
   "cell_type": "markdown",
   "id": "f666241d-4abd-4e51-884d-031fe49075bf",
   "metadata": {},
   "source": [
    "## String"
   ]
  },
  {
   "cell_type": "code",
   "execution_count": 2,
   "id": "47aea578-1804-4ab5-aa52-671de499159c",
   "metadata": {
    "tags": []
   },
   "outputs": [
    {
     "name": "stdout",
     "output_type": "stream",
     "text": [
      "current letter: p\n",
      "current letter: y\n",
      "current letter: t\n",
      "current letter: h\n",
      "current letter: o\n",
      "current letter: n\n"
     ]
    }
   ],
   "source": [
    "# string sequance data \n",
    "for ch in 'python':\n",
    "    print(\"current letter:\",ch)"
   ]
  },
  {
   "cell_type": "code",
   "execution_count": 3,
   "id": "b923f3cf-2d67-4ede-81f5-8ecc4eb074d8",
   "metadata": {},
   "outputs": [
    {
     "name": "stdout",
     "output_type": "stream",
     "text": [
      "E\n",
      "d\n",
      "u\n",
      "b\n",
      "r\n",
      "i\n",
      "g\n",
      "e\n"
     ]
    }
   ],
   "source": [
    "name=\"Edubrige\"\n",
    "for x in name:\n",
    "    print(x)"
   ]
  },
  {
   "cell_type": "code",
   "execution_count": 4,
   "id": "a12061b1-4c2a-4503-8390-df540e4f4662",
   "metadata": {},
   "outputs": [
    {
     "name": "stdout",
     "output_type": "stream",
     "text": [
      "v    i    j    a    y    a    l    a    x    m    i    "
     ]
    }
   ],
   "source": [
    "name=\"vijayalaxmi\"\n",
    "for x in name:\n",
    "    print(x,end=\"    \")"
   ]
  },
  {
   "cell_type": "markdown",
   "id": "c5e9f100-e185-4ca5-8a74-b4a743368c7b",
   "metadata": {},
   "source": [
    "## list"
   ]
  },
  {
   "cell_type": "code",
   "execution_count": 6,
   "id": "eb464a9b-f9b8-4759-94b2-c1fedbbecb45",
   "metadata": {},
   "outputs": [
    {
     "name": "stdout",
     "output_type": "stream",
     "text": [
      "current fruit: banana\n",
      "current fruit: apple\n",
      "current fruit: mango\n"
     ]
    }
   ],
   "source": [
    "# list sequance data\n",
    "fruits=[\"banana\",\"apple\",\"mango\"]\n",
    "for f in fruits:\n",
    "    print(\"current fruit:\",f)"
   ]
  },
  {
   "cell_type": "markdown",
   "id": "09fe028f-5724-48b1-bea8-077146dbcaaa",
   "metadata": {},
   "source": [
    "## tuple"
   ]
  },
  {
   "cell_type": "code",
   "execution_count": 12,
   "id": "28317644-d046-4062-875a-8d76aed52f61",
   "metadata": {},
   "outputs": [
    {
     "name": "stdout",
     "output_type": "stream",
     "text": [
      "orange\tapple\tpear\tbanana\tapple\tbanana\t"
     ]
    }
   ],
   "source": [
    "fruits=(\"orange\",\"apple\",\"pear\",\"banana\",\"apple\",\"banana\")\n",
    "for f in fruits:\n",
    "    print(f,end='\\t')"
   ]
  },
  {
   "cell_type": "markdown",
   "id": "9f93ff62-7dc9-47f4-8503-04021e192abf",
   "metadata": {},
   "source": [
    "## Dictionary"
   ]
  },
  {
   "cell_type": "code",
   "execution_count": 14,
   "id": "bdb549e0-c1b8-4539-bed1-aabd1a5a26e1",
   "metadata": {},
   "outputs": [
    {
     "name": "stdout",
     "output_type": "stream",
     "text": [
      "brand\n",
      "model\n",
      "year\n"
     ]
    }
   ],
   "source": [
    "## Dictionary-mapping data\n",
    "#when looping through a dictionary the return value are the keys of dictionary\n",
    "car_dict={\"brand\":\"ford\",\"model\":\"mustang\",\"year\":1964}\n",
    "for k in car_dict:\n",
    "    print(k)"
   ]
  },
  {
   "cell_type": "code",
   "execution_count": 16,
   "id": "4d7352c6-d451-4840-a19b-89a344156c03",
   "metadata": {},
   "outputs": [
    {
     "name": "stdout",
     "output_type": "stream",
     "text": [
      "brand ford\n",
      "model mustang\n",
      "year 1964\n"
     ]
    }
   ],
   "source": [
    "car_dict={\"brand\":\"ford\",\"model\":\"mustang\",\"year\":1964}\n",
    "for key in car_dict:\n",
    "    print(key,car_dict[key])   ## using dict key index to print value"
   ]
  },
  {
   "cell_type": "markdown",
   "id": "76768ae6-9222-41f2-9a77-c9a2780c9730",
   "metadata": {},
   "source": [
    "## set"
   ]
  },
  {
   "cell_type": "code",
   "execution_count": 17,
   "id": "bf724438-608b-4298-a39a-f4fbda4a911f",
   "metadata": {},
   "outputs": [
    {
     "name": "stdout",
     "output_type": "stream",
     "text": [
      "g d B E u i r e "
     ]
    }
   ],
   "source": [
    "set_data={'i','E','g','u','e','r','d','B'}\n",
    "for set_value in set_data:\n",
    "    print(set_value,end=\" \")"
   ]
  },
  {
   "cell_type": "code",
   "execution_count": 19,
   "id": "92d670f5-6f59-4eca-8e6f-cbae9e4fa665",
   "metadata": {},
   "outputs": [
    {
     "name": "stdout",
     "output_type": "stream",
     "text": [
      "g\td\tB\tE\tu\ti\tr\te\t"
     ]
    }
   ],
   "source": [
    "set_data=frozenset({'i','E','g','u','e','r','d','B'})\n",
    "for set_value in set_data:\n",
    "    print(set_value,end='\\t')"
   ]
  },
  {
   "cell_type": "code",
   "execution_count": 20,
   "id": "5e266739-6c81-4925-968a-85ade1bdd75b",
   "metadata": {},
   "outputs": [
    {
     "name": "stdout",
     "output_type": "stream",
     "text": [
      "[1, 2, 3, 4, 5, 6, 7, 8, 9, 10]\n"
     ]
    }
   ],
   "source": [
    "print(list(range(1,11)))"
   ]
  },
  {
   "cell_type": "markdown",
   "id": "263855b5-c988-4534-9e63-03495b6d440d",
   "metadata": {},
   "source": [
    "# Break, Continue Pass - for loop"
   ]
  },
  {
   "cell_type": "markdown",
   "id": "5c35c615-d0ae-4798-844b-5faf899a7962",
   "metadata": {},
   "source": [
    "## Break"
   ]
  },
  {
   "cell_type": "code",
   "execution_count": 29,
   "id": "97e91f0d-8ba5-4fbe-902c-95817c212c71",
   "metadata": {},
   "outputs": [
    {
     "name": "stdout",
     "output_type": "stream",
     "text": [
      "orange\n",
      "apple\n",
      "pear\n",
      "banana\n"
     ]
    }
   ],
   "source": [
    "fruits=[\"orange\",\"apple\",\"pear\",\"banana\",\"kiwi\",\"apple\",\"banana\"]\n",
    "for f in fruits:\n",
    "    if f==\"kiwi\":\n",
    "        break\n",
    "    print(f)"
   ]
  },
  {
   "cell_type": "markdown",
   "id": "d1f0222d-5cf3-4638-88c0-ee5fb004bc73",
   "metadata": {},
   "source": [
    "## continue"
   ]
  },
  {
   "cell_type": "code",
   "execution_count": 30,
   "id": "bc41f9b3-351c-4791-beb2-5d729d936eed",
   "metadata": {},
   "outputs": [
    {
     "name": "stdout",
     "output_type": "stream",
     "text": [
      "orange\n",
      "apple\n",
      "pear\n",
      "banana\n",
      "apple\n",
      "banana\n"
     ]
    }
   ],
   "source": [
    "fruits=['orange', 'apple', 'pear', 'banana', 'kiwi', 'apple', 'banana']\n",
    "for f in fruits:\n",
    "    if f==\"kiwi\":\n",
    "        continue\n",
    "    print(f)"
   ]
  },
  {
   "cell_type": "markdown",
   "id": "93000b2a-03e6-430e-bbdf-a8950ccf653b",
   "metadata": {},
   "source": [
    "## pass"
   ]
  },
  {
   "cell_type": "code",
   "execution_count": 33,
   "id": "a015f489-4cf3-43f3-9646-b208eaa9a0a0",
   "metadata": {},
   "outputs": [
    {
     "name": "stdout",
     "output_type": "stream",
     "text": [
      "orange\n",
      "apple\n",
      "pear\n",
      "banana\n",
      "kiwi\n",
      "apple\n",
      "banana\n"
     ]
    }
   ],
   "source": [
    "fruits=['orange', 'apple', 'pear', 'banana', 'kiwi', 'apple', 'banana']\n",
    "for f in fruits:\n",
    "    if f==\"kiwi\":\n",
    "        pass\n",
    "    print(f)"
   ]
  },
  {
   "cell_type": "markdown",
   "id": "ee29a1ec-0602-423d-9106-556a7bb9bd67",
   "metadata": {},
   "source": [
    "# nested for loop"
   ]
  },
  {
   "cell_type": "markdown",
   "id": "5d15b4bf-a840-46e5-8731-a8a8321db5a1",
   "metadata": {},
   "source": [
    "\n",
    "#### outer for loop Syntax\n",
    "```python\n",
    "for element in sequence: \n",
    "    # inner for loop\n",
    "   for element in sequence:\n",
    "       body of inner for loop\n",
    "   body of outer for loop\n",
    "```"
   ]
  },
  {
   "cell_type": "code",
   "execution_count": 3,
   "id": "5af55a1f-bd37-4b64-96c3-5d3cbf641662",
   "metadata": {},
   "outputs": [
    {
     "name": "stdout",
     "output_type": "stream",
     "text": [
      "1 3 5 7 9 11 13 15 17 19 "
     ]
    }
   ],
   "source": [
    "for i in range(1,20,2):\n",
    "    print(i,end=' ')"
   ]
  },
  {
   "cell_type": "code",
   "execution_count": 16,
   "id": "3b7f572a-f29e-4604-9b10-2fd217ebf66e",
   "metadata": {},
   "outputs": [],
   "source": [
    "l1=[[1,2,3],[4,5,6]]"
   ]
  },
  {
   "cell_type": "code",
   "execution_count": 17,
   "id": "0be9d70a-96c8-4310-a726-2a5d5416860b",
   "metadata": {},
   "outputs": [
    {
     "name": "stdout",
     "output_type": "stream",
     "text": [
      "1\n",
      "2\n",
      "3\n",
      "4\n",
      "5\n",
      "6\n"
     ]
    }
   ],
   "source": [
    "for i in range(2):\n",
    "    for j in range(3):\n",
    "        print(l1[i][j])\n",
    "    "
   ]
  },
  {
   "cell_type": "code",
   "execution_count": 25,
   "id": "b34d9591-16ac-4756-adaf-521c12d472bc",
   "metadata": {},
   "outputs": [
    {
     "name": "stdout",
     "output_type": "stream",
     "text": [
      "0 0 0\n",
      "0 0 1\n",
      "0 0 2\n",
      "\n",
      "0 1 0\n",
      "0 1 1\n",
      "0 1 2\n",
      "\n",
      "0 2 0\n",
      "0 2 1\n",
      "0 2 2\n",
      "\n",
      "1 0 0\n",
      "1 0 1\n",
      "1 0 2\n",
      "\n",
      "1 1 0\n",
      "1 1 1\n",
      "1 1 2\n",
      "\n",
      "1 2 0\n",
      "1 2 1\n",
      "1 2 2\n",
      "\n",
      "2 0 0\n",
      "2 0 1\n",
      "2 0 2\n",
      "\n",
      "2 1 0\n",
      "2 1 1\n",
      "2 1 2\n",
      "\n",
      "2 2 0\n",
      "2 2 1\n",
      "2 2 2\n",
      "\n"
     ]
    }
   ],
   "source": [
    "#num=[[1,2,3],[4,5,6],[7,8,9],[10,11,12],[13,14,15][16,17,18],[19,20,21],[22,23,24],[25,26,27]\n",
    "#num=[[1,2,3],[4,5,6],[7,8,9],[10,11,12],[13,14,15][16,17,18],[19,20,21],[22,23,24],[25,26,27]\n",
    "for i in range(3):\n",
    "    for j in range(3):\n",
    "        for k in range(3):\n",
    "            print(i,j,k)\n",
    "        print(\"\")     "
   ]
  },
  {
   "cell_type": "code",
   "execution_count": 19,
   "id": "5aba5a61-9624-481a-b23f-6c3424ee621a",
   "metadata": {},
   "outputs": [
    {
     "name": "stdout",
     "output_type": "stream",
     "text": [
      "1\n",
      "0 0 0\n",
      "2\n",
      "0 0 1\n",
      "3\n",
      "0 0 2\n",
      "4\n",
      "0 1 0\n",
      "5\n",
      "0 1 1\n",
      "6\n",
      "0 1 2\n"
     ]
    },
    {
     "ename": "IndexError",
     "evalue": "list index out of range",
     "output_type": "error",
     "traceback": [
      "\u001b[1;31m---------------------------------------------------------------------------\u001b[0m",
      "\u001b[1;31mIndexError\u001b[0m                                Traceback (most recent call last)",
      "\u001b[1;32m~\\AppData\\Local\\Temp/ipykernel_13028/1681433660.py\u001b[0m in \u001b[0;36m<module>\u001b[1;34m\u001b[0m\n\u001b[0;32m      3\u001b[0m     \u001b[1;32mfor\u001b[0m \u001b[0mj\u001b[0m \u001b[1;32min\u001b[0m \u001b[0mrange\u001b[0m\u001b[1;33m(\u001b[0m\u001b[1;36m3\u001b[0m\u001b[1;33m)\u001b[0m\u001b[1;33m:\u001b[0m\u001b[1;33m\u001b[0m\u001b[1;33m\u001b[0m\u001b[0m\n\u001b[0;32m      4\u001b[0m         \u001b[1;32mfor\u001b[0m \u001b[0mk\u001b[0m \u001b[1;32min\u001b[0m \u001b[0mrange\u001b[0m\u001b[1;33m(\u001b[0m\u001b[1;36m3\u001b[0m\u001b[1;33m)\u001b[0m\u001b[1;33m:\u001b[0m\u001b[1;33m\u001b[0m\u001b[1;33m\u001b[0m\u001b[0m\n\u001b[1;32m----> 5\u001b[1;33m             \u001b[0mprint\u001b[0m\u001b[1;33m(\u001b[0m\u001b[0ml1\u001b[0m\u001b[1;33m[\u001b[0m\u001b[0mi\u001b[0m\u001b[1;33m]\u001b[0m\u001b[1;33m[\u001b[0m\u001b[0mj\u001b[0m\u001b[1;33m]\u001b[0m\u001b[1;33m[\u001b[0m\u001b[0mk\u001b[0m\u001b[1;33m]\u001b[0m\u001b[1;33m)\u001b[0m\u001b[1;33m\u001b[0m\u001b[1;33m\u001b[0m\u001b[0m\n\u001b[0m\u001b[0;32m      6\u001b[0m             \u001b[0mprint\u001b[0m\u001b[1;33m(\u001b[0m\u001b[0mi\u001b[0m\u001b[1;33m,\u001b[0m\u001b[0mj\u001b[0m\u001b[1;33m,\u001b[0m\u001b[0mk\u001b[0m\u001b[1;33m)\u001b[0m\u001b[1;33m\u001b[0m\u001b[1;33m\u001b[0m\u001b[0m\n",
      "\u001b[1;31mIndexError\u001b[0m: list index out of range"
     ]
    }
   ],
   "source": [
    "l1=[[[1,2,3],[4,5,6]]]\n",
    "for i in range(3):\n",
    "    for j in range(3):\n",
    "        for k in range(3):\n",
    "            print(l1[i][j][k])\n",
    "            print(i,j,k)"
   ]
  },
  {
   "cell_type": "markdown",
   "id": "5c4e4c52-6693-4986-8d77-251115864bf2",
   "metadata": {},
   "source": [
    "### outer loop"
   ]
  },
  {
   "cell_type": "code",
   "execution_count": 31,
   "id": "bac231db-f787-4da8-8f9e-4d384efc2ada",
   "metadata": {},
   "outputs": [
    {
     "name": "stdout",
     "output_type": "stream",
     "text": [
      "1\t 2\t 3\t 4\t 5\t 6\t 7\t 8\t 9\t 10\t \n",
      "2\t 4\t 6\t 8\t 10\t 12\t 14\t 16\t 18\t 20\t \n",
      "3\t 6\t 9\t 12\t 15\t 18\t 21\t 24\t 27\t 30\t \n",
      "4\t 8\t 12\t 16\t 20\t 24\t 28\t 32\t 36\t 40\t \n",
      "5\t 10\t 15\t 20\t 25\t 30\t 35\t 40\t 45\t 50\t \n",
      "6\t 12\t 18\t 24\t 30\t 36\t 42\t 48\t 54\t 60\t \n",
      "7\t 14\t 21\t 28\t 35\t 42\t 49\t 56\t 63\t 70\t \n",
      "8\t 16\t 24\t 32\t 40\t 48\t 56\t 64\t 72\t 80\t \n",
      "9\t 18\t 27\t 36\t 45\t 54\t 63\t 72\t 81\t 90\t \n",
      "10\t 20\t 30\t 40\t 50\t 60\t 70\t 80\t 90\t 100\t \n"
     ]
    }
   ],
   "source": [
    "for x in range(1,11):\n",
    "    for y in range(1,11):       #nested loop\n",
    "        print(x*y,end='\\t ')    # to iterate the 1 to 100\n",
    "    print()"
   ]
  },
  {
   "cell_type": "markdown",
   "id": "6f72b168-2499-45c1-9e74-5b00b47c5ce6",
   "metadata": {},
   "source": [
    "### Nested loop to print pattern"
   ]
  },
  {
   "cell_type": "code",
   "execution_count": 34,
   "id": "a2c6c618-b00a-4c69-8a97-4c58061ca36b",
   "metadata": {},
   "outputs": [
    {
     "name": "stdout",
     "output_type": "stream",
     "text": [
      "*  \n",
      "*  *  \n",
      "*  *  *  \n",
      "*  *  *  *  \n",
      "*  *  *  *  *  \n",
      "*  *  *  *  *  *  \n",
      "*  *  *  *  *  *  *  \n",
      "*  *  *  *  *  *  *  *  \n",
      "*  *  *  *  *  *  *  *  *  \n",
      "*  *  *  *  *  *  *  *  *  *  \n"
     ]
    }
   ],
   "source": [
    "count=10\n",
    "for i in range(1,count+1):\n",
    "    for j in range(1,i+1):\n",
    "        print(\"*\",end='  ')\n",
    "    print()"
   ]
  },
  {
   "cell_type": "markdown",
   "id": "cf97fce8-fa6b-4367-83db-df029eb025f3",
   "metadata": {},
   "source": [
    "### while loop inside a for loop"
   ]
  },
  {
   "cell_type": "code",
   "execution_count": 36,
   "id": "97744490-0998-4645-babe-dca023c2f874",
   "metadata": {},
   "outputs": [
    {
     "name": "stdout",
     "output_type": "stream",
     "text": [
      "kellay  kellay  kellay  kellay  kellay  \n",
      "jessa  jessa  jessa  jessa  jessa  \n",
      "Emma  Emma  Emma  Emma  Emma  \n"
     ]
    }
   ],
   "source": [
    "names=[\"kellay\",\"jessa\",\"Emma\"]\n",
    "#outer loop \n",
    "for name in names:\n",
    "    count=0\n",
    "    while count<5:\n",
    "        print(name,end='  ')\n",
    "        count=count+1\n",
    "    print()   "
   ]
  },
  {
   "cell_type": "code",
   "execution_count": 38,
   "id": "55004111-6639-4fa2-8454-8d52f82ff6a2",
   "metadata": {},
   "outputs": [
    {
     "name": "stdout",
     "output_type": "stream",
     "text": [
      "vijayalaxmi  vijayalaxmi  vijayalaxmi  vijayalaxmi  vijayalaxmi  vijayalaxmi  vijayalaxmi  vijayalaxmi  vijayalaxmi  vijayalaxmi  \n",
      "shridevi  shridevi  shridevi  shridevi  shridevi  shridevi  shridevi  shridevi  shridevi  shridevi  \n"
     ]
    }
   ],
   "source": [
    "names=[\"vijayalaxmi\",\"shridevi\"]\n",
    "for name in names:\n",
    "    count=0\n",
    "    while count<10:\n",
    "        print(name,end='  ')\n",
    "        count=count+1\n",
    "    print()   "
   ]
  },
  {
   "cell_type": "markdown",
   "id": "6a34af0b-c81d-4acb-a32a-166142cbe169",
   "metadata": {},
   "source": [
    " ### for loop using The xrange() Function"
   ]
  },
  {
   "cell_type": "code",
   "execution_count": 40,
   "id": "3b7cb6ce-fbb3-4046-adf6-4ff486a3b324",
   "metadata": {},
   "outputs": [
    {
     "ename": "NameError",
     "evalue": "name 'xrange' is not defined",
     "output_type": "error",
     "traceback": [
      "\u001b[1;31m---------------------------------------------------------------------------\u001b[0m",
      "\u001b[1;31mNameError\u001b[0m                                 Traceback (most recent call last)",
      "\u001b[1;32m~\\AppData\\Local\\Temp/ipykernel_13028/2176739945.py\u001b[0m in \u001b[0;36m<module>\u001b[1;34m\u001b[0m\n\u001b[1;32m----> 1\u001b[1;33m \u001b[1;32mfor\u001b[0m \u001b[0mx\u001b[0m \u001b[1;32min\u001b[0m \u001b[0mxrange\u001b[0m\u001b[1;33m(\u001b[0m\u001b[1;36m6\u001b[0m\u001b[1;33m)\u001b[0m\u001b[1;33m:\u001b[0m\u001b[1;33m\u001b[0m\u001b[1;33m\u001b[0m\u001b[0m\n\u001b[0m\u001b[0;32m      2\u001b[0m     \u001b[0mprint\u001b[0m\u001b[1;33m(\u001b[0m\u001b[0mx\u001b[0m\u001b[1;33m)\u001b[0m\u001b[1;33m\u001b[0m\u001b[1;33m\u001b[0m\u001b[0m\n",
      "\u001b[1;31mNameError\u001b[0m: name 'xrange' is not defined"
     ]
    }
   ],
   "source": [
    "for x in xrange(6):\n",
    "    print(x)"
   ]
  },
  {
   "cell_type": "code",
   "execution_count": 41,
   "id": "a294fb2f-4bba-43fa-84d8-5e3c69ea251b",
   "metadata": {},
   "outputs": [
    {
     "ename": "NameError",
     "evalue": "name 'xrange' is not defined",
     "output_type": "error",
     "traceback": [
      "\u001b[1;31m---------------------------------------------------------------------------\u001b[0m",
      "\u001b[1;31mNameError\u001b[0m                                 Traceback (most recent call last)",
      "\u001b[1;32m~\\AppData\\Local\\Temp/ipykernel_13028/3883771594.py\u001b[0m in \u001b[0;36m<module>\u001b[1;34m\u001b[0m\n\u001b[0;32m      6\u001b[0m \u001b[1;33m\u001b[0m\u001b[0m\n\u001b[0;32m      7\u001b[0m \u001b[1;31m# initializing a with xrange()\u001b[0m\u001b[1;33m\u001b[0m\u001b[1;33m\u001b[0m\u001b[0m\n\u001b[1;32m----> 8\u001b[1;33m \u001b[0mx\u001b[0m \u001b[1;33m=\u001b[0m \u001b[0mxrange\u001b[0m\u001b[1;33m(\u001b[0m\u001b[1;36m1\u001b[0m\u001b[1;33m,\u001b[0m\u001b[1;36m10000\u001b[0m\u001b[1;33m)\u001b[0m\u001b[1;33m\u001b[0m\u001b[1;33m\u001b[0m\u001b[0m\n\u001b[0m\u001b[0;32m      9\u001b[0m \u001b[1;33m\u001b[0m\u001b[0m\n\u001b[0;32m     10\u001b[0m \u001b[1;31m# testing the type of a\u001b[0m\u001b[1;33m\u001b[0m\u001b[1;33m\u001b[0m\u001b[0m\n",
      "\u001b[1;31mNameError\u001b[0m: name 'xrange' is not defined"
     ]
    }
   ],
   "source": [
    "# Python code to demonstrate range() vs xrange()\n",
    "# on basis of return type\n",
    "\n",
    "# initializing a with range()\n",
    "a = range(1,10000)\n",
    "\n",
    "# initializing a with xrange()\n",
    "x = xrange(1,10000)\n",
    "\n",
    "# testing the type of a\n",
    "print (\"The return type of range() is : \")\n",
    "print (type(a))\n",
    "\n",
    "# testing the type of x\n",
    "print (\"The return type of xrange() is : \")\n",
    "print (type(x))\n"
   ]
  },
  {
   "cell_type": "code",
   "execution_count": 42,
   "id": "cf440bc8-e7eb-4c7e-ac75-49bb02682913",
   "metadata": {},
   "outputs": [
    {
     "name": "stdout",
     "output_type": "stream",
     "text": [
      "range(1, 10000)\n"
     ]
    },
    {
     "ename": "NameError",
     "evalue": "name 'xrange' is not defined",
     "output_type": "error",
     "traceback": [
      "\u001b[1;31m---------------------------------------------------------------------------\u001b[0m",
      "\u001b[1;31mNameError\u001b[0m                                 Traceback (most recent call last)",
      "\u001b[1;32m~\\AppData\\Local\\Temp/ipykernel_13028/1669996413.py\u001b[0m in \u001b[0;36m<module>\u001b[1;34m\u001b[0m\n\u001b[0;32m      9\u001b[0m \u001b[1;33m\u001b[0m\u001b[0m\n\u001b[0;32m     10\u001b[0m \u001b[1;31m# initializing a with xrange()\u001b[0m\u001b[1;33m\u001b[0m\u001b[1;33m\u001b[0m\u001b[0m\n\u001b[1;32m---> 11\u001b[1;33m \u001b[0mx\u001b[0m \u001b[1;33m=\u001b[0m \u001b[0mxrange\u001b[0m\u001b[1;33m(\u001b[0m\u001b[1;36m1\u001b[0m\u001b[1;33m,\u001b[0m\u001b[1;36m10000\u001b[0m\u001b[1;33m)\u001b[0m\u001b[1;33m\u001b[0m\u001b[1;33m\u001b[0m\u001b[0m\n\u001b[0m\u001b[0;32m     12\u001b[0m \u001b[1;33m\u001b[0m\u001b[0m\n\u001b[0;32m     13\u001b[0m \u001b[1;31m# testing the size of a\u001b[0m\u001b[1;33m\u001b[0m\u001b[1;33m\u001b[0m\u001b[0m\n",
      "\u001b[1;31mNameError\u001b[0m: name 'xrange' is not defined"
     ]
    }
   ],
   "source": [
    "# Python code to demonstrate range() vs xrange()\n",
    "# on basis of memory\n",
    "\n",
    "import sys\n",
    "\n",
    "# initializing a with range()\n",
    "a = range(1,10000)\n",
    "print(a)\n",
    "\n",
    "# initializing a with xrange()\n",
    "x = xrange(1,10000)\n",
    "\n",
    "# testing the size of a\n",
    "# range() takes more memory\n",
    "print (\"The size allotted using range() is : \")\n",
    "print (sys.getsizeof(a))\n",
    "\n",
    "# testing the size of x\n",
    "# xrange() takes less memory\n",
    "print (\"The size allotted using xrange() is : \")\n",
    "print (sys.getsizeof(x))"
   ]
  },
  {
   "cell_type": "markdown",
   "id": "24801831-07ba-499d-8ec5-252ab222d1ad",
   "metadata": {},
   "source": [
    "# \"enumerate\" function for loop "
   ]
  },
  {
   "cell_type": "markdown",
   "id": "2edf33db-719f-452c-bc19-226df6c99a75",
   "metadata": {},
   "source": [
    " Enumerate function in \"for loop\" does two things:\n",
    "  - • It returns the index number for the member\n",
    "  - • And the member of the collection that we are looking at"
   ]
  },
  {
   "cell_type": "code",
   "execution_count": 44,
   "id": "0879d0cc-5619-4927-b1a7-f45f5937e1e4",
   "metadata": {},
   "outputs": [
    {
     "name": "stdout",
     "output_type": "stream",
     "text": [
      "{'d', 'B', 'E', 'u', 'g', '-', 'i', 'e', 'r'}\n",
      "<class 'set'>\n",
      "0 d\n",
      "1 B\n",
      "2 E\n",
      "3 u\n",
      "4 g\n",
      "5 -\n",
      "6 i\n",
      "7 e\n",
      "8 r\n"
     ]
    }
   ],
   "source": [
    "# creating set usin string\n",
    "test_set=set(\"Edu-Bridge\")\n",
    "print(test_set)\n",
    "print(type(test_set))\n",
    " # using enumerate  funtion in for loop\n",
    "for id,val in enumerate(test_set):\n",
    "    print(id,val)"
   ]
  },
  {
   "cell_type": "code",
   "execution_count": 46,
   "id": "6aac6758-bacf-4647-abcc-4043a004b047",
   "metadata": {},
   "outputs": [
    {
     "name": "stdout",
     "output_type": "stream",
     "text": [
      "0 jan\n",
      "1 feb\n",
      "2 march\n",
      "3 april\n"
     ]
    }
   ],
   "source": [
    "months=[\"jan\",\"feb\",\"march\",\"april\"]\n",
    "for i,m in enumerate(months):\n",
    "    print(i,m)"
   ]
  },
  {
   "cell_type": "code",
   "execution_count": 49,
   "id": "ed64d8fc-028f-4f7c-b032-c79906b73615",
   "metadata": {},
   "outputs": [
    {
     "name": "stdout",
     "output_type": "stream",
     "text": [
      "0 p\n",
      "1 y\n",
      "2 t\n",
      "3 h\n",
      "4 o\n",
      "5 n\n"
     ]
    }
   ],
   "source": [
    "str=\"python\"\n",
    "for i,s in enumerate(str):\n",
    "    print(i,s)"
   ]
  },
  {
   "cell_type": "code",
   "execution_count": null,
   "id": "98a38e6f-691a-4262-a676-8665756e7554",
   "metadata": {},
   "outputs": [],
   "source": []
  }
 ],
 "metadata": {
  "kernelspec": {
   "display_name": "Python 3 (ipykernel)",
   "language": "python",
   "name": "python3"
  },
  "language_info": {
   "codemirror_mode": {
    "name": "ipython",
    "version": 3
   },
   "file_extension": ".py",
   "mimetype": "text/x-python",
   "name": "python",
   "nbconvert_exporter": "python",
   "pygments_lexer": "ipython3",
   "version": "3.9.7"
  }
 },
 "nbformat": 4,
 "nbformat_minor": 5
}
