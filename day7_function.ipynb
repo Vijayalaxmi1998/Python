{
 "cells": [
  {
   "cell_type": "markdown",
   "id": "19e5d763-3cf3-45a4-8e4a-c7f4db45e82a",
   "metadata": {
    "tags": []
   },
   "source": [
    "# Python Functions\n",
    "A function is a self-contained block of one or more statements that performs a special task when called. - - The syntax:\n",
    "The syntax for the Python function contains a header and body.\n",
    "The function header begins with the ‘ def’ keyword. The def keyword signifies the beginning of the function’s definition.\n",
    "The name of the function is followed by the def keyword.\n",
    "The function header may contain zero or more number of parameters. These parameters are called formal parameters.\n",
    "If a function contains more than one parameter then all the parameters are separated by commas.\n",
    "A function’s body is a block of statements. The statements within the function’s body define the actions that the function needs to perform."
   ]
  },
  {
   "cell_type": "raw",
   "id": "f0c38812-cb8b-4c9c-a508-8830fed07137",
   "metadata": {},
   "source": [
    "def name_of_function(Parameters):         # Function Header\n",
    "                      statement1\n",
    "                      statement2\n",
    "                      statement3\n",
    "                      ..........\n",
    "                      statementN"
   ]
  },
  {
   "cell_type": "code",
   "execution_count": 1,
   "id": "e6d7a24a-f86c-4ffb-bdab-919818f74448",
   "metadata": {},
   "outputs": [],
   "source": [
    "#Write a program to create a function having a name, display. Print the message, “Welcome to\n",
    "#Python Programming” inside the function.\n",
    "def message():\n",
    "    print(\"Welcome to Python Programming \")"
   ]
  },
  {
   "cell_type": "code",
   "execution_count": 2,
   "id": "eed2d219-75a1-436d-b410-62827ab1f7ef",
   "metadata": {},
   "outputs": [
    {
     "name": "stdout",
     "output_type": "stream",
     "text": [
      "Welcome to Python Programming \n"
     ]
    }
   ],
   "source": [
    "message() #call function"
   ]
  },
  {
   "cell_type": "markdown",
   "id": "56414d9c-d67c-46f6-afab-10008acd3b68",
   "metadata": {},
   "source": [
    "## Function with Parameter"
   ]
  },
  {
   "cell_type": "code",
   "execution_count": 3,
   "id": "7244d2d8-ff69-4162-92ab-69f20e073d47",
   "metadata": {},
   "outputs": [],
   "source": [
    "def massege(name):\n",
    "    print(f\"Hii {name},welcome to python Programming\")"
   ]
  },
  {
   "cell_type": "code",
   "execution_count": 4,
   "id": "2a9ca2af-fb8a-457d-8d35-6fbd45bd246e",
   "metadata": {},
   "outputs": [
    {
     "name": "stdout",
     "output_type": "stream",
     "text": [
      "Hii vijaya,welcome to python Programming\n"
     ]
    }
   ],
   "source": [
    "massege(\"vijaya\")"
   ]
  },
  {
   "cell_type": "code",
   "execution_count": 5,
   "id": "f831c6e3-c328-4ea3-bfcd-12b502a1bdfc",
   "metadata": {},
   "outputs": [],
   "source": [
    "def welcome_msg(name):\n",
    "    print(f\"Hi {name}, welcome to python Programming\")    "
   ]
  },
  {
   "cell_type": "code",
   "execution_count": 6,
   "id": "3ab7eb1d-6274-43cd-a6ee-5f08a29b30de",
   "metadata": {},
   "outputs": [
    {
     "name": "stdout",
     "output_type": "stream",
     "text": [
      "Sum of integers from 1 to 25 is: 325\n",
      "Sum of integer from 50 to 76 is: 1625\n",
      "Sum of integer from 90 to 100 is: 1045\n"
     ]
    }
   ],
   "source": [
    "#Write a program to add the sum of digits from 1 to 25, 50 to 76 and 90 to 101 using three\n",
    "#different for loops.\n",
    "sum=0\n",
    "for i in range(1,26):\n",
    "        sum=sum+i\n",
    "print(\"Sum of integers from 1 to 25 is:\",sum)\n",
    "sum=0\n",
    "for i in range(50,76):\n",
    "            sum=sum+i\n",
    "print(\"Sum of integer from 50 to 76 is:\",sum)\n",
    "sum=0\n",
    "for i in range(90,101):\n",
    "            sum=sum+i\n",
    "print(\"Sum of integer from 90 to 100 is:\",sum)"
   ]
  },
  {
   "cell_type": "code",
   "execution_count": 7,
   "id": "02c16e1d-d36f-4ce1-a553-dd32e239184b",
   "metadata": {},
   "outputs": [
    {
     "name": "stdout",
     "output_type": "stream",
     "text": [
      "sum of 1 to 25 is= 325\n"
     ]
    }
   ],
   "source": [
    "sum=0\n",
    "for i in range(1,26):\n",
    "    sum=sum+i\n",
    "print(\"sum of 1 to 25 is=\",sum)\n"
   ]
  },
  {
   "cell_type": "code",
   "execution_count": 8,
   "id": "9144e4fb-d998-4d62-b33b-d48671db17be",
   "metadata": {},
   "outputs": [
    {
     "ename": "SyntaxError",
     "evalue": "invalid syntax (Temp/ipykernel_11680/61293488.py, line 6)",
     "output_type": "error",
     "traceback": [
      "\u001b[1;36m  File \u001b[1;32m\"C:\\Users\\Disk\\AppData\\Local\\Temp/ipykernel_11680/61293488.py\"\u001b[1;36m, line \u001b[1;32m6\u001b[0m\n\u001b[1;33m    else:\u001b[0m\n\u001b[1;37m    ^\u001b[0m\n\u001b[1;31mSyntaxError\u001b[0m\u001b[1;31m:\u001b[0m invalid syntax\n"
     ]
    }
   ],
   "source": [
    "sum=0\n",
    "for i in range(1,101):\n",
    "    if i%2==0:\n",
    "        sum=sum+i\n",
    "    print(\"sum of the even number:\",sum)\n",
    "    else:\n",
    "        sum=sum+i\n",
    "    print(\"sum of the odd number:\",sum)    \n",
    "    "
   ]
  },
  {
   "cell_type": "code",
   "execution_count": 16,
   "id": "657f6c5b-3d50-4206-91ac-66541b9745f9",
   "metadata": {},
   "outputs": [
    {
     "name": "stdout",
     "output_type": "stream",
     "text": [
      "sum of the  1 to 25 is 325\n"
     ]
    }
   ],
   "source": [
    "# write a program to illutrate the use of functions\n",
    "def sum(x,y):\n",
    "    \"\"\"summing of the given range data x,y\"\"\"\n",
    "    s=0;\n",
    "    for i in range(x,y+1):\n",
    "          s=s+i \n",
    "    print(\"sum of the \",x,\"to\",y,\"is\",s)\n",
    "sum(1,25)"
   ]
  },
  {
   "cell_type": "code",
   "execution_count": null,
   "id": "4df4b013-5877-4816-af01-b1e56fa047ca",
   "metadata": {},
   "outputs": [],
   "source": [
    "sum(1,25)"
   ]
  },
  {
   "cell_type": "code",
   "execution_count": 14,
   "id": "3faad1f7-db1a-4b67-a288-437d95e8c567",
   "metadata": {},
   "outputs": [
    {
     "name": "stdout",
     "output_type": "stream",
     "text": [
      "Sum of integers from  1  to  25  is  325\n",
      "Sum of integers from  50  to  75  is  1625\n",
      "Sum of integers from  90  to  100  is  1045\n"
     ]
    }
   ],
   "source": [
    "def sum(x,y):\n",
    "    '''summing of the given range data x,y'''\n",
    "    s=0;\n",
    "    for i in range(x,y+1):\n",
    "            s=s+i\n",
    "    print(\"Sum of integers from \",x,\" to \",y,\" is \",s)\n",
    "sum(1,25)\n",
    "sum(50,75)\n",
    "sum(90,100)"
   ]
  },
  {
   "cell_type": "code",
   "execution_count": 17,
   "id": "d0616a06-1544-4578-ad2d-2c7239f1224b",
   "metadata": {},
   "outputs": [
    {
     "name": "stdout",
     "output_type": "stream",
     "text": [
      "the sum of the 1 to 25 is 325\n",
      "the sum of the 25 to 75 is 2550\n",
      "the sum of the 75 to 100 is 2275\n"
     ]
    }
   ],
   "source": [
    "def sum(x,y):\n",
    "    s=0;\n",
    "    for i in range(x,y+1):\n",
    "        s=s+i\n",
    "    print(\"the sum of the\",x,\"to\",y,\"is\",s)\n",
    "sum(1,25)\n",
    "sum(25,75)\n",
    "sum(75,100)\n",
    "    "
   ]
  },
  {
   "cell_type": "code",
   "execution_count": 19,
   "id": "4a98f76a-95ef-4d06-8ea4-7cc64aa898bd",
   "metadata": {},
   "outputs": [
    {
     "name": "stdout",
     "output_type": "stream",
     "text": [
      "the sum of the 8 to 10 is 27\n"
     ]
    }
   ],
   "source": [
    "sum(8,10)"
   ]
  },
  {
   "cell_type": "code",
   "execution_count": 20,
   "id": "4fcc06d5-02f2-4409-ba2a-8ed12e2fcd33",
   "metadata": {},
   "outputs": [
    {
     "name": "stdout",
     "output_type": "stream",
     "text": [
      "Help on function sum in module __main__:\n",
      "\n",
      "sum(x, y)\n",
      "\n"
     ]
    }
   ],
   "source": [
    "help(sum)"
   ]
  },
  {
   "cell_type": "code",
   "execution_count": 21,
   "id": "5a9d0699-9300-46c8-826b-9f6cc6549016",
   "metadata": {},
   "outputs": [],
   "source": [
    "# define a basic function\n",
    "def say_message():\n",
    "    print(\"i am a function\")\n",
    "    print(\"this is a function without return\")"
   ]
  },
  {
   "cell_type": "code",
   "execution_count": 22,
   "id": "0bf91478-dd52-415d-b65b-7225a75d9671",
   "metadata": {},
   "outputs": [
    {
     "name": "stdout",
     "output_type": "stream",
     "text": [
      "i am a function\n",
      "this is a function without return\n"
     ]
    }
   ],
   "source": [
    "say_message()"
   ]
  },
  {
   "cell_type": "code",
   "execution_count": 31,
   "id": "5c481a70-b469-475a-9510-b683c729acc7",
   "metadata": {},
   "outputs": [],
   "source": [
    "def say_hii(Fname,Lname):\n",
    "    print(\"Hi\",Fname,Lname,\" welcome to python programming language\")"
   ]
  },
  {
   "cell_type": "code",
   "execution_count": 32,
   "id": "e4194a7d-9418-4ab4-a563-9d979ccf2e68",
   "metadata": {},
   "outputs": [
    {
     "name": "stdout",
     "output_type": "stream",
     "text": [
      "Hi vijayalaxmi kaleguddi  welcome to python programming language\n"
     ]
    }
   ],
   "source": [
    "say_hii(\"vijayalaxmi\",\"kaleguddi\")"
   ]
  },
  {
   "cell_type": "markdown",
   "id": "c91169dd-721c-4fd0-898d-1b02def21932",
   "metadata": {},
   "source": [
    "## function with Parameter and Return "
   ]
  },
  {
   "cell_type": "code",
   "execution_count": 38,
   "id": "afdb4dea-61f6-481f-8557-fbdc47ae63bf",
   "metadata": {},
   "outputs": [],
   "source": [
    "def add(a,b):\n",
    "    return(a+b)"
   ]
  },
  {
   "cell_type": "code",
   "execution_count": 40,
   "id": "f7c785a2-8ae7-4bdc-95a3-e07a032a679c",
   "metadata": {},
   "outputs": [
    {
     "data": {
      "text/plain": [
       "9"
      ]
     },
     "execution_count": 40,
     "metadata": {},
     "output_type": "execute_result"
    }
   ],
   "source": [
    "result=add(4,5)\n",
    "result"
   ]
  },
  {
   "cell_type": "code",
   "execution_count": 41,
   "id": "ffd2721e-fb51-4175-99e7-4c332681a3ac",
   "metadata": {},
   "outputs": [
    {
     "name": "stdout",
     "output_type": "stream",
     "text": [
      "9\n"
     ]
    }
   ],
   "source": [
    "print(result)"
   ]
  },
  {
   "cell_type": "code",
   "execution_count": 43,
   "id": "5b8bb1d2-ab30-4698-a8be-0c5c6ae96eae",
   "metadata": {},
   "outputs": [],
   "source": [
    "def add1(a,b):\n",
    "    return a*b"
   ]
  },
  {
   "cell_type": "code",
   "execution_count": 44,
   "id": "96c5ee53-02bf-4222-b3e0-079d64e6277a",
   "metadata": {},
   "outputs": [
    {
     "name": "stdout",
     "output_type": "stream",
     "text": [
      "15\n"
     ]
    }
   ],
   "source": [
    "result1=add1(3,5)\n",
    "print(result1)"
   ]
  },
  {
   "cell_type": "code",
   "execution_count": 49,
   "id": "866941e8-36f9-4f00-b653-b227bd0e34e9",
   "metadata": {},
   "outputs": [
    {
     "name": "stdout",
     "output_type": "stream",
     "text": [
      "11\n"
     ]
    },
    {
     "data": {
      "text/plain": [
       "24"
      ]
     },
     "execution_count": 49,
     "metadata": {},
     "output_type": "execute_result"
    }
   ],
   "source": [
    "def add2(a,b):\n",
    "    print(a+b)\n",
    "    return a*b\n",
    "add2(3,8)"
   ]
  },
  {
   "cell_type": "markdown",
   "id": "a936d71b-3fa9-48aa-bb53-7074e0f04f7e",
   "metadata": {},
   "source": [
    "## function with default argument"
   ]
  },
  {
   "cell_type": "code",
   "execution_count": 55,
   "id": "9d60c955-4a3d-4dd8-acc6-57a5b7c0774e",
   "metadata": {},
   "outputs": [],
   "source": [
    "def power(num,x=1):\n",
    "    result=1;\n",
    "    for i in range(x):\n",
    "        result=result*num\n",
    "    print(x,\" th power of\",num,\"is\",result)"
   ]
  },
  {
   "cell_type": "code",
   "execution_count": 56,
   "id": "cc4ee1ee-8aac-4c75-95bf-a10444e21cce",
   "metadata": {},
   "outputs": [
    {
     "name": "stdout",
     "output_type": "stream",
     "text": [
      "4  th power of 3 is 81\n"
     ]
    }
   ],
   "source": [
    "power(3,4)"
   ]
  },
  {
   "cell_type": "code",
   "execution_count": 58,
   "id": "41db40c9-d3b6-421a-ac2d-20663ee6cc9f",
   "metadata": {},
   "outputs": [
    {
     "ename": "SyntaxError",
     "evalue": "non-default argument follows default argument (Temp/ipykernel_11680/2579459380.py, line 1)",
     "output_type": "error",
     "traceback": [
      "\u001b[1;36m  File \u001b[1;32m\"C:\\Users\\Disk\\AppData\\Local\\Temp/ipykernel_11680/2579459380.py\"\u001b[1;36m, line \u001b[1;32m1\u001b[0m\n\u001b[1;33m    def power(x=1,num):\u001b[0m\n\u001b[1;37m                     ^\u001b[0m\n\u001b[1;31mSyntaxError\u001b[0m\u001b[1;31m:\u001b[0m non-default argument follows default argument\n"
     ]
    }
   ],
   "source": [
    "def power(x=1,num):\n",
    "    result=1;\n",
    "    for i in range(x):\n",
    "        result=result*num\n",
    "    print(x,\" th power of\",num,\"is\",result)"
   ]
  },
  {
   "cell_type": "markdown",
   "id": "959f27a0-64a2-4eea-8ac6-ac0b22aecb9e",
   "metadata": {},
   "source": [
    "## function with variable number of argument"
   ]
  },
  {
   "cell_type": "code",
   "execution_count": 1,
   "id": "79bd0895-bb08-4387-adea-1d3c409ffbbe",
   "metadata": {},
   "outputs": [],
   "source": [
    "# function with variable number of argument\n",
    "def multi_add(*arg):\n",
    "    result=0;\n",
    "    for i in arg:\n",
    "        result=result+i\n",
    "    print(\"sum of all number in function=\",result)    "
   ]
  },
  {
   "cell_type": "code",
   "execution_count": 2,
   "id": "539c154b-8f59-415d-b779-b1f7cefbafe0",
   "metadata": {},
   "outputs": [
    {
     "name": "stdout",
     "output_type": "stream",
     "text": [
      "sum of all number in function= 31\n"
     ]
    }
   ],
   "source": [
    "multi_add(2,5,7,8,9)"
   ]
  },
  {
   "cell_type": "code",
   "execution_count": 3,
   "id": "66574f28-bb25-439b-af61-ac241e448823",
   "metadata": {},
   "outputs": [
    {
     "name": "stdout",
     "output_type": "stream",
     "text": [
      "sum of all number in function= 53\n"
     ]
    }
   ],
   "source": [
    "multi_add(4,6,7,9,12,15)"
   ]
  },
  {
   "cell_type": "code",
   "execution_count": 18,
   "id": "02e2d3a7-5bbf-42ce-991b-6d7e11be7437",
   "metadata": {},
   "outputs": [],
   "source": [
    "def test(a,b,*c):\n",
    "    print(\"sum of first two number=\",a+b)\n",
    "    result=0;\n",
    "    for i in c:\n",
    "        result=result+i\n",
    "    print(\"sum of other number=\",result)\n",
    "    #return a+b+result\n",
    "    print(\"sum of all argument=\",result+a+b)"
   ]
  },
  {
   "cell_type": "code",
   "execution_count": 19,
   "id": "c914635b-b10d-4a07-ab34-bb7849a624a8",
   "metadata": {},
   "outputs": [
    {
     "name": "stdout",
     "output_type": "stream",
     "text": [
      "sum of first two number= 10\n",
      "sum of other number= 25\n",
      "sum of all argument= 35\n"
     ]
    }
   ],
   "source": [
    "test(5,5,3,4,5,6,7)"
   ]
  },
  {
   "cell_type": "code",
   "execution_count": 23,
   "id": "9dc6ef4d-a00b-441e-bf85-d6f62f5a143d",
   "metadata": {},
   "outputs": [],
   "source": [
    "def func(a,b=10,c=20):\n",
    "    print(\"a=\",a,\"b=\",b,\"c=\",c,\"sum of three number=\",a+b+c)\n",
    "    "
   ]
  },
  {
   "cell_type": "code",
   "execution_count": 56,
   "id": "980c2ac6-510a-46bc-805b-63b0e31df7a0",
   "metadata": {},
   "outputs": [
    {
     "name": "stdout",
     "output_type": "stream",
     "text": [
      "a= 5 b= 10 c= 20 sum of three number= 35\n",
      "a= 33 b= 44 c= 20 sum of three number= 97\n",
      "a= 66 b= 77 c= 88 sum of three number= 231\n"
     ]
    }
   ],
   "source": [
    "func(5)    # b and c value takes default\n",
    "func(33,44)  # here c=20 is takes default\n",
    "func(66,77,88)"
   ]
  },
  {
   "cell_type": "code",
   "execution_count": 37,
   "id": "b8879afb-02fb-45fa-8296-ecf558673947",
   "metadata": {},
   "outputs": [
    {
     "name": "stdout",
     "output_type": "stream",
     "text": [
      "216\n",
      "36\n"
     ]
    }
   ],
   "source": [
    "def cube(n):\n",
    "    return n*n*n \n",
    "def square(n):    \n",
    "    return n*n\n",
    "print(cube(6))\n",
    "print(square(6))"
   ]
  },
  {
   "cell_type": "code",
   "execution_count": 38,
   "id": "3b71c865-6127-4055-8ed6-92d8f2b167ff",
   "metadata": {},
   "outputs": [
    {
     "name": "stdout",
     "output_type": "stream",
     "text": [
      "20\n"
     ]
    }
   ],
   "source": [
    "print(4*5)"
   ]
  },
  {
   "cell_type": "code",
   "execution_count": 46,
   "id": "2cb2346c-dad5-4f48-9ded-13e190df1aa5",
   "metadata": {},
   "outputs": [],
   "source": [
    "def cub(n):\n",
    "    print(\"cube of\",n,\"is=\",n*n*n) \n",
    "def squar(n):    \n",
    "    print(\"square of\",n,\"is=\",n*n)\n",
    "#print(cube(6))\n",
    "#print(square(6))"
   ]
  },
  {
   "cell_type": "code",
   "execution_count": 47,
   "id": "3b7924a7-5fa4-41a7-92db-9338604199f5",
   "metadata": {},
   "outputs": [
    {
     "name": "stdout",
     "output_type": "stream",
     "text": [
      "cube of 8 is= 512\n",
      "square of 7 is= 49\n"
     ]
    }
   ],
   "source": [
    "cub(8)\n",
    "squar(7)"
   ]
  },
  {
   "cell_type": "markdown",
   "id": "49e3f534-00a6-45e2-bcf1-a889caa61365",
   "metadata": {},
   "source": [
    "## Arbitrary Keyword Arguments"
   ]
  },
  {
   "cell_type": "code",
   "execution_count": 52,
   "id": "722b2022-5fdc-42ef-83b1-dc8952e515f5",
   "metadata": {},
   "outputs": [],
   "source": [
    "def fun1(**kwarg):\n",
    "    print(kwarg)\n",
    "    for i in kwarg:\n",
    "        print(i,kwarg[i])"
   ]
  },
  {
   "cell_type": "code",
   "execution_count": 53,
   "id": "97083ce6-d00e-4b6e-8c04-2a4025f9fe6c",
   "metadata": {},
   "outputs": [
    {
     "name": "stdout",
     "output_type": "stream",
     "text": [
      "{'name': 'vijaya', 'age': 23, 'Edu': 'M.sc'}\n",
      "name vijaya\n",
      "age 23\n",
      "Edu M.sc\n"
     ]
    }
   ],
   "source": [
    "fun1(name=\"vijaya\",age=23,Edu=\"M.sc\")"
   ]
  },
  {
   "cell_type": "code",
   "execution_count": 55,
   "id": "0c883350-7ae4-44bb-89e0-a9551fc40085",
   "metadata": {},
   "outputs": [
    {
     "name": "stdout",
     "output_type": "stream",
     "text": [
      "{'__name__': '__main__', '__doc__': 'Automatically created module for IPython interactive environment', '__package__': None, '__loader__': None, '__spec__': None, '__builtin__': <module 'builtins' (built-in)>, '__builtins__': <module 'builtins' (built-in)>, '_ih': ['', '# function with variable number of argument\\ndef multi_add(*arg):\\n    result=0;\\n    for i in arg:\\n        result=result+i\\n    print(\"sum of all number in function=\",result)    ', 'multi_add(2,5,7,8,9)', 'multi_add(4,6,7,9,12,15)', 'def test(a,b,*c):\\n    print(\"sum of first two number=\",a+b)\\n    result=0;\\n    for i in c:\\n        result=result+i\\n    return \"sum of other number=\",result', 'test(5,5)', 'def test(a,b,*c):\\n    print(\"sum of first two number=\",a+b)\\n    result=0;\\n    for i in c:\\n        result=result+i\\n    return \"sum of other number=\",result\\nprint(a+b+result)', 'def test(a,b,*c):\\n    print(\"sum of first two number=\",a+b)\\n    result=0;\\n    for i in c:\\n        result=result+i\\n    print(\"sum of other number=\",result)\\nprint(a+b+result)', 'def test(a,b,*c):\\n    print(\"sum of first two number=\",a+b)\\n    result=0;\\n    for i in c:\\n        result=result+i\\n    print(\"sum of other number=\",result)\\nprint(result)', 'def test(a,b,*c):\\n    print(\"sum of first two number=\",a+b)\\n    result=0;\\n    for i in c:\\n        result=result+i\\n    print(\"sum of other number=\",result)\\n    print(result)', 'def test(a,b,*c):\\n    print(\"sum of first two number=\",a+b)\\n    result=0;\\n    for i in c:\\n        result=result+i\\n    print(\"sum of other number=\",result)\\n    print(result+a+b)', 'test(5,5)', 'def test(a,b,*c):\\n    print(\"sum of first two number=\",a+b)\\n    result=0;\\n    for i in c:\\n        result=result+i\\n    print(\"sum of other number=\",result)\\n    print(\"sum of all argument=\"result+a+b)', 'def test(a,b,*c):\\n    print(\"sum of first two number=\",a+b)\\n    result=0;\\n    for i in c:\\n        result=result+i\\n    print(\"sum of other number=\",result)\\n    print(\"sum of all argument=\",result+a+b)', 'test(5,5,3,4,5,6,7)', 'def test(a,b,*c):\\n    print(\"sum of first two number=\",a+b)\\n    result=0;\\n    for i in c:\\n        result=result+i\\n    print(\"sum of other number=\",result)\\n    return a+b+result\\n    #print(\"sum of all argument=\",result+a+b)', 'test(5,5,3,4,5,6,7)', 'def test(a,b,*c):\\n    print(\"sum of first two number=\",a+b)\\n    result=0;\\n    for i in c:\\n        result=result+i\\n    print(\"sum of other number=\",result)\\n    return a+b+result\\n    print(\"sum of all argument=\",result+a+b)', 'def test(a,b,*c):\\n    print(\"sum of first two number=\",a+b)\\n    result=0;\\n    for i in c:\\n        result=result+i\\n    print(\"sum of other number=\",result)\\n    #return a+b+result\\n    print(\"sum of all argument=\",result+a+b)', 'test(5,5,3,4,5,6,7)', 'def func(a,b=10,c=20):\\n    print(\"a=\",a,\"b=\",b,\"c=\",c,end=\"\\\\n\",\"sum of three number=\"a+b+c)\\n    ', 'def func(a,b=10,c=20):\\n    print(\"a=\",a,\"b=\",b,\"c=\",c,end=\"\\\\n\",\"sum of three number=\",a+b+c)\\n    ', 'def func(a,b=10,c=20):\\n    print(\"a=\",a,\"b=\",b,\"c=\",c,end=\"\\\\n\",\"sum of three number=\")\\n    ', 'def func(a,b=10,c=20):\\n    print(\"a=\",a,\"b=\",b,\"c=\",c,\"sum of three number=\",a+b+c)\\n    ', 'func(5)', 'func(5)\\nfunc(33,44)', 'func(5)\\nfunc(33,44)\\nfunc(66, ,88)', 'func(5)\\nfunc(33,44)\\nfunc(66,77,88)', 'def cube(n):\\n    print(\"cube of\",n,\"is=\",n*n*n*)\\ndef square(\"square of\",n,\"is=\",n*n)    \\n    print(\"square of\",n,\"is=\",n*n)    \\ncube(6)\\nsquare(6)\\n    ', 'def cube(n):\\n    #print(\"cube of\",n,\"is=\",n*n*n*)\\n    return n*n*n \\ndef square(\"square of\",n,\"is=\",n*n)    \\n    #print(\"square of\",n,\"is=\",n*n)\\n    return n*n\\ncube(6)\\nsquare(6)\\n    ', 'def cube(n):\\n    #print(\"cube of\",n,\"is=\",n*n*n*)\\n    return n*n*n \\ndef square(n)    \\n    #print(\"square of\",n,\"is=\",n*n)\\n    return n*n\\ncube(6)\\nsquare(6)\\n    ', 'def cube(n):\\n    #print(\"cube of\",n,\"is=\",n*n*n*)\\n    return n*n*n \\ndef square(n):    \\n    #print(\"square of\",n,\"is=\",n*n)\\n    return n*n\\ncube(6)\\nsquare(6)\\n    ', 'def cube(n):\\n    #print(\"cube of\",n,\"is=\",n*n*n*)\\n    return n*n*n \\ndef square(n):    \\n    #print(\"square of\",n,\"is=\",n*n)\\n    return n*n\\nprint(cube(6))\\nsquare(6)\\n    ', 'def cube(n):\\n    #print(\"cube of\",n,\"is=\",n*n*n*)\\n    return n*n*n \\ndef square(n):    \\n    #print(\"square of\",n,\"is=\",n*n)\\n    return n*n\\nprint(cube(6))\\nprint(square(6))', 'def cube(n):\\n    print(\"cube of\",n,\"is=\",n*n*n*)\\n    #return n*n*n \\ndef square(n):    \\n    print(\"square of\",n,\"is=\",n*n)\\n    #return n*n\\nprint(cube(6))\\nprint(square(6))', 'def cube(n):\\n    print(n*n*n*)\\n    #return n*n*n \\ndef square(n):    \\n    print(\"square of\",n,\"is=\",n*n)\\n    #return n*n\\nprint(cube(6))\\nprint(square(6))', 'def cube(n):\\n    print(eval(n*n*n*))\\n    #return n*n*n \\ndef square(n):    \\n    print(\"square of\",n,\"is=\",n*n)\\n    #return n*n\\nprint(cube(6))\\nprint(square(6))', 'def cube(n):\\n    return n*n*n \\ndef square(n):    \\n    return n*n\\nprint(cube(6))\\nprint(square(6))', 'print(4*5)', 'def cube(n):\\n    print(n*n*n) \\ndef square(n):    \\n    print(n*n)\\nprint(cube(6))\\nprint(square(6))', 'def cube(n):\\n    print(n*n*n) \\ndef square(n):    \\n    print(n*n)\\n#print(cube(6))\\n#print(square(6))', 'def cub(n):\\n    print(n*n*n) \\ndef squar(n):    \\n    print(n*n)\\n#print(cube(6))\\n#print(square(6))', 'cub(8)\\nsquar(7)', 'def cub(n):\\n    print(\"cube of\",n,\"is=\",n*n*n) \\ndef squar(n):    \\n    print(n*n)\\n#print(cube(6))\\n#print(square(6))', 'cub(8)\\nsquar(7)', 'def cub(n):\\n    print(\"cube of\",n,\"is=\",n*n*n) \\ndef squar(n):    \\n    print(\"square of\",n,\"is=\"n*n)\\n#print(cube(6))\\n#print(square(6))', 'def cub(n):\\n    print(\"cube of\",n,\"is=\",n*n*n) \\ndef squar(n):    \\n    print(\"square of\",n,\"is=\",n*n)\\n#print(cube(6))\\n#print(square(6))', 'cub(8)\\nsquar(7)', 'def fun1(**kwarg):\\n    print(kwarg)', 'fun1(\"name\"=\"vijaya\",\"age\"=23,\"Edu\"=\"M.sc\")', 'fun1(name=\"vijaya\",\"age\"=23,\"Edu\"=\"M.sc\")', 'fun1(name=\"vijaya\",age=23,Edu=\"M.sc\")', 'def fun1(**kwarg):\\n    print(kwarg)\\n    for i in kwarg:\\n        print(i,kwarg[i])', 'fun1(name=\"vijaya\",age=23,Edu=\"M.sc\")', 'print(global())', 'print(globals())'], '_oh': {5: ('sum of other number=', 0), 16: 35, 31: 36, 32: 36}, '_dh': ['C:\\\\Users\\\\Disk\\\\python learning in edubrigde'], 'In': ['', '# function with variable number of argument\\ndef multi_add(*arg):\\n    result=0;\\n    for i in arg:\\n        result=result+i\\n    print(\"sum of all number in function=\",result)    ', 'multi_add(2,5,7,8,9)', 'multi_add(4,6,7,9,12,15)', 'def test(a,b,*c):\\n    print(\"sum of first two number=\",a+b)\\n    result=0;\\n    for i in c:\\n        result=result+i\\n    return \"sum of other number=\",result', 'test(5,5)', 'def test(a,b,*c):\\n    print(\"sum of first two number=\",a+b)\\n    result=0;\\n    for i in c:\\n        result=result+i\\n    return \"sum of other number=\",result\\nprint(a+b+result)', 'def test(a,b,*c):\\n    print(\"sum of first two number=\",a+b)\\n    result=0;\\n    for i in c:\\n        result=result+i\\n    print(\"sum of other number=\",result)\\nprint(a+b+result)', 'def test(a,b,*c):\\n    print(\"sum of first two number=\",a+b)\\n    result=0;\\n    for i in c:\\n        result=result+i\\n    print(\"sum of other number=\",result)\\nprint(result)', 'def test(a,b,*c):\\n    print(\"sum of first two number=\",a+b)\\n    result=0;\\n    for i in c:\\n        result=result+i\\n    print(\"sum of other number=\",result)\\n    print(result)', 'def test(a,b,*c):\\n    print(\"sum of first two number=\",a+b)\\n    result=0;\\n    for i in c:\\n        result=result+i\\n    print(\"sum of other number=\",result)\\n    print(result+a+b)', 'test(5,5)', 'def test(a,b,*c):\\n    print(\"sum of first two number=\",a+b)\\n    result=0;\\n    for i in c:\\n        result=result+i\\n    print(\"sum of other number=\",result)\\n    print(\"sum of all argument=\"result+a+b)', 'def test(a,b,*c):\\n    print(\"sum of first two number=\",a+b)\\n    result=0;\\n    for i in c:\\n        result=result+i\\n    print(\"sum of other number=\",result)\\n    print(\"sum of all argument=\",result+a+b)', 'test(5,5,3,4,5,6,7)', 'def test(a,b,*c):\\n    print(\"sum of first two number=\",a+b)\\n    result=0;\\n    for i in c:\\n        result=result+i\\n    print(\"sum of other number=\",result)\\n    return a+b+result\\n    #print(\"sum of all argument=\",result+a+b)', 'test(5,5,3,4,5,6,7)', 'def test(a,b,*c):\\n    print(\"sum of first two number=\",a+b)\\n    result=0;\\n    for i in c:\\n        result=result+i\\n    print(\"sum of other number=\",result)\\n    return a+b+result\\n    print(\"sum of all argument=\",result+a+b)', 'def test(a,b,*c):\\n    print(\"sum of first two number=\",a+b)\\n    result=0;\\n    for i in c:\\n        result=result+i\\n    print(\"sum of other number=\",result)\\n    #return a+b+result\\n    print(\"sum of all argument=\",result+a+b)', 'test(5,5,3,4,5,6,7)', 'def func(a,b=10,c=20):\\n    print(\"a=\",a,\"b=\",b,\"c=\",c,end=\"\\\\n\",\"sum of three number=\"a+b+c)\\n    ', 'def func(a,b=10,c=20):\\n    print(\"a=\",a,\"b=\",b,\"c=\",c,end=\"\\\\n\",\"sum of three number=\",a+b+c)\\n    ', 'def func(a,b=10,c=20):\\n    print(\"a=\",a,\"b=\",b,\"c=\",c,end=\"\\\\n\",\"sum of three number=\")\\n    ', 'def func(a,b=10,c=20):\\n    print(\"a=\",a,\"b=\",b,\"c=\",c,\"sum of three number=\",a+b+c)\\n    ', 'func(5)', 'func(5)\\nfunc(33,44)', 'func(5)\\nfunc(33,44)\\nfunc(66, ,88)', 'func(5)\\nfunc(33,44)\\nfunc(66,77,88)', 'def cube(n):\\n    print(\"cube of\",n,\"is=\",n*n*n*)\\ndef square(\"square of\",n,\"is=\",n*n)    \\n    print(\"square of\",n,\"is=\",n*n)    \\ncube(6)\\nsquare(6)\\n    ', 'def cube(n):\\n    #print(\"cube of\",n,\"is=\",n*n*n*)\\n    return n*n*n \\ndef square(\"square of\",n,\"is=\",n*n)    \\n    #print(\"square of\",n,\"is=\",n*n)\\n    return n*n\\ncube(6)\\nsquare(6)\\n    ', 'def cube(n):\\n    #print(\"cube of\",n,\"is=\",n*n*n*)\\n    return n*n*n \\ndef square(n)    \\n    #print(\"square of\",n,\"is=\",n*n)\\n    return n*n\\ncube(6)\\nsquare(6)\\n    ', 'def cube(n):\\n    #print(\"cube of\",n,\"is=\",n*n*n*)\\n    return n*n*n \\ndef square(n):    \\n    #print(\"square of\",n,\"is=\",n*n)\\n    return n*n\\ncube(6)\\nsquare(6)\\n    ', 'def cube(n):\\n    #print(\"cube of\",n,\"is=\",n*n*n*)\\n    return n*n*n \\ndef square(n):    \\n    #print(\"square of\",n,\"is=\",n*n)\\n    return n*n\\nprint(cube(6))\\nsquare(6)\\n    ', 'def cube(n):\\n    #print(\"cube of\",n,\"is=\",n*n*n*)\\n    return n*n*n \\ndef square(n):    \\n    #print(\"square of\",n,\"is=\",n*n)\\n    return n*n\\nprint(cube(6))\\nprint(square(6))', 'def cube(n):\\n    print(\"cube of\",n,\"is=\",n*n*n*)\\n    #return n*n*n \\ndef square(n):    \\n    print(\"square of\",n,\"is=\",n*n)\\n    #return n*n\\nprint(cube(6))\\nprint(square(6))', 'def cube(n):\\n    print(n*n*n*)\\n    #return n*n*n \\ndef square(n):    \\n    print(\"square of\",n,\"is=\",n*n)\\n    #return n*n\\nprint(cube(6))\\nprint(square(6))', 'def cube(n):\\n    print(eval(n*n*n*))\\n    #return n*n*n \\ndef square(n):    \\n    print(\"square of\",n,\"is=\",n*n)\\n    #return n*n\\nprint(cube(6))\\nprint(square(6))', 'def cube(n):\\n    return n*n*n \\ndef square(n):    \\n    return n*n\\nprint(cube(6))\\nprint(square(6))', 'print(4*5)', 'def cube(n):\\n    print(n*n*n) \\ndef square(n):    \\n    print(n*n)\\nprint(cube(6))\\nprint(square(6))', 'def cube(n):\\n    print(n*n*n) \\ndef square(n):    \\n    print(n*n)\\n#print(cube(6))\\n#print(square(6))', 'def cub(n):\\n    print(n*n*n) \\ndef squar(n):    \\n    print(n*n)\\n#print(cube(6))\\n#print(square(6))', 'cub(8)\\nsquar(7)', 'def cub(n):\\n    print(\"cube of\",n,\"is=\",n*n*n) \\ndef squar(n):    \\n    print(n*n)\\n#print(cube(6))\\n#print(square(6))', 'cub(8)\\nsquar(7)', 'def cub(n):\\n    print(\"cube of\",n,\"is=\",n*n*n) \\ndef squar(n):    \\n    print(\"square of\",n,\"is=\"n*n)\\n#print(cube(6))\\n#print(square(6))', 'def cub(n):\\n    print(\"cube of\",n,\"is=\",n*n*n) \\ndef squar(n):    \\n    print(\"square of\",n,\"is=\",n*n)\\n#print(cube(6))\\n#print(square(6))', 'cub(8)\\nsquar(7)', 'def fun1(**kwarg):\\n    print(kwarg)', 'fun1(\"name\"=\"vijaya\",\"age\"=23,\"Edu\"=\"M.sc\")', 'fun1(name=\"vijaya\",\"age\"=23,\"Edu\"=\"M.sc\")', 'fun1(name=\"vijaya\",age=23,Edu=\"M.sc\")', 'def fun1(**kwarg):\\n    print(kwarg)\\n    for i in kwarg:\\n        print(i,kwarg[i])', 'fun1(name=\"vijaya\",age=23,Edu=\"M.sc\")', 'print(global())', 'print(globals())'], 'Out': {5: ('sum of other number=', 0), 16: 35, 31: 36, 32: 36}, 'get_ipython': <bound method InteractiveShell.get_ipython of <ipykernel.zmqshell.ZMQInteractiveShell object at 0x0000020CD4351430>>, 'exit': <IPython.core.autocall.ZMQExitAutocall object at 0x0000020CD43A27C0>, 'quit': <IPython.core.autocall.ZMQExitAutocall object at 0x0000020CD43A27C0>, '_': 36, '__': 36, '___': 35, '_i': 'print(global())', '_ii': 'fun1(name=\"vijaya\",age=23,Edu=\"M.sc\")', '_iii': 'def fun1(**kwarg):\\n    print(kwarg)\\n    for i in kwarg:\\n        print(i,kwarg[i])', '_i1': '# function with variable number of argument\\ndef multi_add(*arg):\\n    result=0;\\n    for i in arg:\\n        result=result+i\\n    print(\"sum of all number in function=\",result)    ', 'multi_add': <function multi_add at 0x0000020CD43DFD30>, '_i2': 'multi_add(2,5,7,8,9)', '_i3': 'multi_add(4,6,7,9,12,15)', '_i4': 'def test(a,b,*c):\\n    print(\"sum of first two number=\",a+b)\\n    result=0;\\n    for i in c:\\n        result=result+i\\n    return \"sum of other number=\",result', 'test': <function test at 0x0000020CD44C4820>, '_i5': 'test(5,5)', '_5': ('sum of other number=', 0), '_i6': 'def test(a,b,*c):\\n    print(\"sum of first two number=\",a+b)\\n    result=0;\\n    for i in c:\\n        result=result+i\\n    return \"sum of other number=\",result\\nprint(a+b+result)', '_i7': 'def test(a,b,*c):\\n    print(\"sum of first two number=\",a+b)\\n    result=0;\\n    for i in c:\\n        result=result+i\\n    print(\"sum of other number=\",result)\\nprint(a+b+result)', '_i8': 'def test(a,b,*c):\\n    print(\"sum of first two number=\",a+b)\\n    result=0;\\n    for i in c:\\n        result=result+i\\n    print(\"sum of other number=\",result)\\nprint(result)', '_i9': 'def test(a,b,*c):\\n    print(\"sum of first two number=\",a+b)\\n    result=0;\\n    for i in c:\\n        result=result+i\\n    print(\"sum of other number=\",result)\\n    print(result)', '_i10': 'def test(a,b,*c):\\n    print(\"sum of first two number=\",a+b)\\n    result=0;\\n    for i in c:\\n        result=result+i\\n    print(\"sum of other number=\",result)\\n    print(result+a+b)', '_i11': 'test(5,5)', '_i12': 'def test(a,b,*c):\\n    print(\"sum of first two number=\",a+b)\\n    result=0;\\n    for i in c:\\n        result=result+i\\n    print(\"sum of other number=\",result)\\n    print(\"sum of all argument=\"result+a+b)', '_i13': 'def test(a,b,*c):\\n    print(\"sum of first two number=\",a+b)\\n    result=0;\\n    for i in c:\\n        result=result+i\\n    print(\"sum of other number=\",result)\\n    print(\"sum of all argument=\",result+a+b)', '_i14': 'test(5,5,3,4,5,6,7)', '_i15': 'def test(a,b,*c):\\n    print(\"sum of first two number=\",a+b)\\n    result=0;\\n    for i in c:\\n        result=result+i\\n    print(\"sum of other number=\",result)\\n    return a+b+result\\n    #print(\"sum of all argument=\",result+a+b)', '_i16': 'test(5,5,3,4,5,6,7)', '_16': 35, '_i17': 'def test(a,b,*c):\\n    print(\"sum of first two number=\",a+b)\\n    result=0;\\n    for i in c:\\n        result=result+i\\n    print(\"sum of other number=\",result)\\n    return a+b+result\\n    print(\"sum of all argument=\",result+a+b)', '_i18': 'def test(a,b,*c):\\n    print(\"sum of first two number=\",a+b)\\n    result=0;\\n    for i in c:\\n        result=result+i\\n    print(\"sum of other number=\",result)\\n    #return a+b+result\\n    print(\"sum of all argument=\",result+a+b)', '_i19': 'test(5,5,3,4,5,6,7)', '_i20': 'def func(a,b=10,c=20):\\n    print(\"a=\",a,\"b=\",b,\"c=\",c,end=\"\\\\n\",\"sum of three number=\"a+b+c)\\n    ', '_i21': 'def func(a,b=10,c=20):\\n    print(\"a=\",a,\"b=\",b,\"c=\",c,end=\"\\\\n\",\"sum of three number=\",a+b+c)\\n    ', '_i22': 'def func(a,b=10,c=20):\\n    print(\"a=\",a,\"b=\",b,\"c=\",c,end=\"\\\\n\",\"sum of three number=\")\\n    ', '_i23': 'def func(a,b=10,c=20):\\n    print(\"a=\",a,\"b=\",b,\"c=\",c,\"sum of three number=\",a+b+c)\\n    ', 'func': <function func at 0x0000020CD44C4550>, '_i24': 'func(5)', '_i25': 'func(5)\\nfunc(33,44)', '_i26': 'func(5)\\nfunc(33,44)\\nfunc(66, ,88)', '_i27': 'func(5)\\nfunc(33,44)\\nfunc(66,77,88)', '_i28': 'def cube(n):\\n    print(\"cube of\",n,\"is=\",n*n*n*)\\ndef square(\"square of\",n,\"is=\",n*n)    \\n    print(\"square of\",n,\"is=\",n*n)    \\ncube(6)\\nsquare(6)\\n    ', '_i29': 'def cube(n):\\n    #print(\"cube of\",n,\"is=\",n*n*n*)\\n    return n*n*n \\ndef square(\"square of\",n,\"is=\",n*n)    \\n    #print(\"square of\",n,\"is=\",n*n)\\n    return n*n\\ncube(6)\\nsquare(6)\\n    ', '_i30': 'def cube(n):\\n    #print(\"cube of\",n,\"is=\",n*n*n*)\\n    return n*n*n \\ndef square(n)    \\n    #print(\"square of\",n,\"is=\",n*n)\\n    return n*n\\ncube(6)\\nsquare(6)\\n    ', '_i31': 'def cube(n):\\n    #print(\"cube of\",n,\"is=\",n*n*n*)\\n    return n*n*n \\ndef square(n):    \\n    #print(\"square of\",n,\"is=\",n*n)\\n    return n*n\\ncube(6)\\nsquare(6)\\n    ', 'cube': <function cube at 0x0000020CD44C4670>, 'square': <function square at 0x0000020CD44C4DC0>, '_31': 36, '_i32': 'def cube(n):\\n    #print(\"cube of\",n,\"is=\",n*n*n*)\\n    return n*n*n \\ndef square(n):    \\n    #print(\"square of\",n,\"is=\",n*n)\\n    return n*n\\nprint(cube(6))\\nsquare(6)\\n    ', '_32': 36, '_i33': 'def cube(n):\\n    #print(\"cube of\",n,\"is=\",n*n*n*)\\n    return n*n*n \\ndef square(n):    \\n    #print(\"square of\",n,\"is=\",n*n)\\n    return n*n\\nprint(cube(6))\\nprint(square(6))', '_i34': 'def cube(n):\\n    print(\"cube of\",n,\"is=\",n*n*n*)\\n    #return n*n*n \\ndef square(n):    \\n    print(\"square of\",n,\"is=\",n*n)\\n    #return n*n\\nprint(cube(6))\\nprint(square(6))', '_i35': 'def cube(n):\\n    print(n*n*n*)\\n    #return n*n*n \\ndef square(n):    \\n    print(\"square of\",n,\"is=\",n*n)\\n    #return n*n\\nprint(cube(6))\\nprint(square(6))', '_i36': 'def cube(n):\\n    print(eval(n*n*n*))\\n    #return n*n*n \\ndef square(n):    \\n    print(\"square of\",n,\"is=\",n*n)\\n    #return n*n\\nprint(cube(6))\\nprint(square(6))', '_i37': 'def cube(n):\\n    return n*n*n \\ndef square(n):    \\n    return n*n\\nprint(cube(6))\\nprint(square(6))', '_i38': 'print(4*5)', '_i39': 'def cube(n):\\n    print(n*n*n) \\ndef square(n):    \\n    print(n*n)\\nprint(cube(6))\\nprint(square(6))', '_i40': 'def cube(n):\\n    print(n*n*n) \\ndef square(n):    \\n    print(n*n)\\n#print(cube(6))\\n#print(square(6))', '_i41': 'def cub(n):\\n    print(n*n*n) \\ndef squar(n):    \\n    print(n*n)\\n#print(cube(6))\\n#print(square(6))', 'cub': <function cub at 0x0000020CD44D85E0>, 'squar': <function squar at 0x0000020CD44D8040>, '_i42': 'cub(8)\\nsquar(7)', '_i43': 'def cub(n):\\n    print(\"cube of\",n,\"is=\",n*n*n) \\ndef squar(n):    \\n    print(n*n)\\n#print(cube(6))\\n#print(square(6))', '_i44': 'cub(8)\\nsquar(7)', '_i45': 'def cub(n):\\n    print(\"cube of\",n,\"is=\",n*n*n) \\ndef squar(n):    \\n    print(\"square of\",n,\"is=\"n*n)\\n#print(cube(6))\\n#print(square(6))', '_i46': 'def cub(n):\\n    print(\"cube of\",n,\"is=\",n*n*n) \\ndef squar(n):    \\n    print(\"square of\",n,\"is=\",n*n)\\n#print(cube(6))\\n#print(square(6))', '_i47': 'cub(8)\\nsquar(7)', '_i48': 'def fun1(**kwarg):\\n    print(kwarg)', 'fun1': <function fun1 at 0x0000020CD44D80D0>, '_i49': 'fun1(\"name\"=\"vijaya\",\"age\"=23,\"Edu\"=\"M.sc\")', '_i50': 'fun1(name=\"vijaya\",\"age\"=23,\"Edu\"=\"M.sc\")', '_i51': 'fun1(name=\"vijaya\",age=23,Edu=\"M.sc\")', '_i52': 'def fun1(**kwarg):\\n    print(kwarg)\\n    for i in kwarg:\\n        print(i,kwarg[i])', '_i53': 'fun1(name=\"vijaya\",age=23,Edu=\"M.sc\")', '_i54': 'print(global())', '_i55': 'print(globals())'}\n"
     ]
    }
   ],
   "source": [
    "print(globals())"
   ]
  },
  {
   "cell_type": "markdown",
   "id": "4a2e6828-ce8d-4381-be32-ff94c92e8063",
   "metadata": {},
   "source": [
    "## recursion:"
   ]
  },
  {
   "cell_type": "code",
   "execution_count": 17,
   "id": "052e0d4a-1801-406d-8e08-06b4153a987d",
   "metadata": {},
   "outputs": [],
   "source": [
    "def find_fact(n):\n",
    "    if n==1:\n",
    "        print(\"this is one\",n)\n",
    "        return 1\n",
    "    else:\n",
    "        print(\" this is a result\",n)\n",
    "        return n\n",
    "        \n"
   ]
  },
  {
   "cell_type": "code",
   "execution_count": 8,
   "id": "992c7ae9-3507-480e-aa34-b1cacb98f6d9",
   "metadata": {},
   "outputs": [
    {
     "name": "stdout",
     "output_type": "stream",
     "text": [
      "this is result: 5\n"
     ]
    },
    {
     "data": {
      "text/plain": [
       "5"
      ]
     },
     "execution_count": 8,
     "metadata": {},
     "output_type": "execute_result"
    }
   ],
   "source": [
    "find_fact(5)"
   ]
  },
  {
   "cell_type": "code",
   "execution_count": 11,
   "id": "6598d5dc-6ab9-483a-98d2-f941c448cb6a",
   "metadata": {},
   "outputs": [],
   "source": [
    "def fact(n):\n",
    "    if n==1:\n",
    "        return 1\n",
    "    return n*fact(n-1)"
   ]
  },
  {
   "cell_type": "code",
   "execution_count": 12,
   "id": "e7b15418-3722-4da3-a611-2df32dab9bd6",
   "metadata": {},
   "outputs": [
    {
     "data": {
      "text/plain": [
       "6"
      ]
     },
     "execution_count": 12,
     "metadata": {},
     "output_type": "execute_result"
    }
   ],
   "source": [
    "fact(3)"
   ]
  },
  {
   "cell_type": "code",
   "execution_count": 13,
   "id": "bc822a1c-d1c2-40aa-a38f-c87b6e41fa0c",
   "metadata": {},
   "outputs": [
    {
     "data": {
      "text/plain": [
       "24"
      ]
     },
     "execution_count": 13,
     "metadata": {},
     "output_type": "execute_result"
    }
   ],
   "source": [
    "fact(4)"
   ]
  },
  {
   "cell_type": "code",
   "execution_count": 18,
   "id": "40738602-b8ec-43b1-9ffa-9a03a79229b8",
   "metadata": {},
   "outputs": [
    {
     "name": "stdout",
     "output_type": "stream",
     "text": [
      "3628800\n"
     ]
    }
   ],
   "source": [
    "print(fact(10))"
   ]
  },
  {
   "cell_type": "markdown",
   "id": "9927ab2b-c2f9-4246-ba6b-d9505f98286a",
   "metadata": {},
   "source": [
    "### Fibonacci Series "
   ]
  },
  {
   "cell_type": "code",
   "execution_count": 2,
   "id": "8d94e99c-9c15-4a79-8e37-ef76eb0c48d2",
   "metadata": {},
   "outputs": [],
   "source": [
    "def fibo(n):\n",
    "    if n<=1:\n",
    "        return 1\n",
    "    else:\n",
    "        return (fibo(n-1)+fibo(n-2))"
   ]
  },
  {
   "cell_type": "code",
   "execution_count": 23,
   "id": "3f782089-e968-4577-ba1d-4742f13111bc",
   "metadata": {},
   "outputs": [
    {
     "data": {
      "text/plain": [
       "8"
      ]
     },
     "execution_count": 23,
     "metadata": {},
     "output_type": "execute_result"
    }
   ],
   "source": [
    "fibo(5)"
   ]
  },
  {
   "cell_type": "code",
   "execution_count": 3,
   "id": "1b7a5c25-a8fa-414f-80d9-32e43a7ed578",
   "metadata": {},
   "outputs": [
    {
     "name": "stdin",
     "output_type": "stream",
     "text": [
      "Enter the No of Terms 8\n"
     ]
    },
    {
     "name": "stdout",
     "output_type": "stream",
     "text": [
      "Fibonacci sequence:\n",
      "1\n",
      "1\n",
      "2\n",
      "3\n",
      "5\n",
      "8\n",
      "13\n",
      "21\n"
     ]
    }
   ],
   "source": [
    "nterms =int(input(\"Enter the No of Terms\"))\n",
    "# check if the number of terms is valid\n",
    "if nterms <= 0:\n",
    "   print(\"Plese enter a positive integer\")\n",
    "else:\n",
    "   print(\"Fibonacci sequence:\")\n",
    "   for i in range(nterms):\n",
    "       print(fibo(i))"
   ]
  },
  {
   "cell_type": "markdown",
   "id": "8f1a54fe-40d4-4283-aa10-902ce9ad411d",
   "metadata": {},
   "source": [
    "##  Function as Object\n",
    "functions are just like any other kind of value.\n",
    "They can be assigned and reassigned to variables, and later referenced by those names. "
   ]
  },
  {
   "cell_type": "code",
   "execution_count": 4,
   "id": "e3eb8f9c-d8d6-46e2-b787-7c28efa40e3d",
   "metadata": {},
   "outputs": [
    {
     "name": "stdout",
     "output_type": "stream",
     "text": [
      "28\n"
     ]
    }
   ],
   "source": [
    "def multiply(x, y):\n",
    "    return x * y\n",
    "\n",
    "a = 4\n",
    "b = 7\n",
    "operation = multiply\n",
    "print(operation(a, b))"
   ]
  },
  {
   "cell_type": "code",
   "execution_count": 5,
   "id": "c288433f-5bbf-41a0-b06f-fa9e105ddd6a",
   "metadata": {},
   "outputs": [],
   "source": [
    "op1=multiply"
   ]
  },
  {
   "cell_type": "code",
   "execution_count": 6,
   "id": "ad5d4c49-92e7-4eed-94b5-0e4eb67b7809",
   "metadata": {},
   "outputs": [
    {
     "data": {
      "text/plain": [
       "30"
      ]
     },
     "execution_count": 6,
     "metadata": {},
     "output_type": "execute_result"
    }
   ],
   "source": [
    "op1(5,6)"
   ]
  },
  {
   "cell_type": "code",
   "execution_count": 8,
   "id": "ae317ff9-7315-4ee6-997d-aea0167b6c5f",
   "metadata": {},
   "outputs": [],
   "source": [
    "x=op1"
   ]
  },
  {
   "cell_type": "code",
   "execution_count": 10,
   "id": "40893f1e-6578-4561-8309-49c5062a293f",
   "metadata": {},
   "outputs": [
    {
     "name": "stdout",
     "output_type": "stream",
     "text": [
      "1949427134032 1949427134032 1949427134032 1949427134032\n"
     ]
    }
   ],
   "source": [
    "print(id(multiply),id(op1),id(operation),id(x))  #  location of the function"
   ]
  },
  {
   "cell_type": "markdown",
   "id": "d1c01ed4-b442-4c55-9486-a4a41bdda71a",
   "metadata": {},
   "source": [
    "The example above assigned the function multiply to a variable operation. Now, the name operation can also be used to call the function.\n",
    "\n",
    "Functions can also be used as arguments of other functions."
   ]
  },
  {
   "cell_type": "code",
   "execution_count": 11,
   "id": "8813a5f8-c949-40a5-a4b9-9acf0d121d1e",
   "metadata": {},
   "outputs": [
    {
     "name": "stdout",
     "output_type": "stream",
     "text": [
      "60\n"
     ]
    }
   ],
   "source": [
    "def add(x, y):\n",
    "    return x + y\n",
    "\n",
    "def do_twice(func, x, y):\n",
    "    return func(func(x, y), func(x, y))\n",
    "\n",
    "a = 20\n",
    "b = 10\n",
    "\n",
    "print(do_twice(add, a, b))"
   ]
  },
  {
   "cell_type": "raw",
   "id": "de832df5-a5d2-403a-8ee3-10936c17d1de",
   "metadata": {},
   "source": [
    "As you can see, the function do_twice takes a function as its argument and calls it in its body."
   ]
  },
  {
   "cell_type": "code",
   "execution_count": 13,
   "id": "95f57b0c-1282-4515-a959-aa6a002ccf7d",
   "metadata": {},
   "outputs": [],
   "source": [
    "del x"
   ]
  },
  {
   "cell_type": "markdown",
   "id": "5c46a81f-9253-4ebb-a9d0-a0fd0320b9c5",
   "metadata": {},
   "source": [
    "## Scope of variable "
   ]
  },
  {
   "cell_type": "code",
   "execution_count": 14,
   "id": "6496381d-5564-4b15-9ac9-8c45f87f03bf",
   "metadata": {},
   "outputs": [
    {
     "name": "stdout",
     "output_type": "stream",
     "text": [
      "Value inside function: 10\n",
      "Value outside function: 10\n"
     ]
    }
   ],
   "source": [
    "# Scope and Lifetime of variables\n",
    "def my_func():\n",
    "    global x\n",
    "    x= 10\n",
    "    print(\"Value inside function:\",x)\n",
    "\n",
    "#x = 20\n",
    "my_func()\n",
    "print(\"Value outside function:\",x)"
   ]
  },
  {
   "cell_type": "markdown",
   "id": "79bd1649-1871-4541-a57d-e989a69bd193",
   "metadata": {},
   "source": [
    "## lambda"
   ]
  },
  {
   "cell_type": "raw",
   "id": "72974457-be25-44c3-bda4-223d0276e1bc",
   "metadata": {},
   "source": [
    "Python allows us to create functions on-the-fly, provided that they are created using lambda syntax. "
   ]
  },
  {
   "cell_type": "code",
   "execution_count": 16,
   "id": "dfabdecd-954a-4c31-afd9-b2739cc8ea55",
   "metadata": {},
   "outputs": [
    {
     "name": "stdout",
     "output_type": "stream",
     "text": [
      "27\n"
     ]
    }
   ],
   "source": [
    "#   lambda arguments : expression\n",
    "c=lambda x:x*x*x\n",
    "print(c(3))"
   ]
  },
  {
   "cell_type": "code",
   "execution_count": 18,
   "id": "6bb72e40-49e8-4966-9ccc-4f3c05fa71b1",
   "metadata": {},
   "outputs": [
    {
     "data": {
      "text/plain": [
       "512"
      ]
     },
     "execution_count": 18,
     "metadata": {},
     "output_type": "execute_result"
    }
   ],
   "source": [
    "c(8)"
   ]
  },
  {
   "cell_type": "code",
   "execution_count": 17,
   "id": "116f3710-62f2-4dd8-9a97-1f0713de529e",
   "metadata": {},
   "outputs": [
    {
     "data": {
      "text/plain": [
       "50"
      ]
     },
     "execution_count": 17,
     "metadata": {},
     "output_type": "execute_result"
    }
   ],
   "source": [
    "def my_func(f, arg):\n",
    "    return f(arg)\n",
    "my_func(lambda x: 2*x*x, 5)"
   ]
  },
  {
   "cell_type": "code",
   "execution_count": 19,
   "id": "4bdc1418-b5be-4fc0-a239-60d3a88d9b63",
   "metadata": {},
   "outputs": [
    {
     "name": "stdout",
     "output_type": "stream",
     "text": [
      "0\n",
      "0\n"
     ]
    }
   ],
   "source": [
    "#named function\n",
    "def polynomial(x):\n",
    "    return x**2 + 5*x + 4\n",
    "print(polynomial(-4))\n",
    "\n",
    "#lambda\n",
    "print((lambda x: x**2 + 5*x + 4) (-4))"
   ]
  },
  {
   "cell_type": "code",
   "execution_count": 20,
   "id": "7a0678e8-86d0-4381-ba6e-37f26ef244a4",
   "metadata": {},
   "outputs": [
    {
     "name": "stdout",
     "output_type": "stream",
     "text": [
      "400\n"
     ]
    }
   ],
   "source": [
    "print((lambda x,y,z:x*y*z)(10,20,2))"
   ]
  },
  {
   "cell_type": "code",
   "execution_count": 21,
   "id": "2d1722fb-3588-4e02-9cb2-8925a2ad0134",
   "metadata": {},
   "outputs": [
    {
     "data": {
      "text/plain": [
       "120"
      ]
     },
     "execution_count": 21,
     "metadata": {},
     "output_type": "execute_result"
    }
   ],
   "source": [
    "fact = lambda x: 1 if x == 0 else x * fact(x-1)\n",
    "fact(5)"
   ]
  },
  {
   "cell_type": "markdown",
   "id": "3c142c6f-e225-4c1c-87bd-b6f5148376eb",
   "metadata": {},
   "source": [
    "## Generators\n",
    "\n",
    "Generators are a type of iterable, like lists or tuples. Unlike lists, they don't allow indexing with arbitrary indices, but they can still be iterated through with for loops. They can be created using functions and the yield statement."
   ]
  },
  {
   "cell_type": "code",
   "execution_count": 22,
   "id": "45563ca5-bedb-41c8-96d5-78e974755f3d",
   "metadata": {},
   "outputs": [
    {
     "name": "stdout",
     "output_type": "stream",
     "text": [
      "5\n",
      "4\n",
      "3\n",
      "2\n",
      "1\n"
     ]
    }
   ],
   "source": [
    "def countdown():\n",
    "    i=5\n",
    "    while i > 0:\n",
    "        yield i\n",
    "        i -= 1\n",
    "\n",
    "for i in countdown():\n",
    "    print(i)"
   ]
  },
  {
   "cell_type": "code",
   "execution_count": 24,
   "id": "0b2f0cbf-4a54-42f1-84e0-8de14d720b35",
   "metadata": {},
   "outputs": [
    {
     "name": "stdout",
     "output_type": "stream",
     "text": [
      "The \"yield\" statement\n",
      "*********************\n",
      "\n",
      "   yield_stmt ::= yield_expression\n",
      "\n",
      "A \"yield\" statement is semantically equivalent to a yield expression.\n",
      "The yield statement can be used to omit the parentheses that would\n",
      "otherwise be required in the equivalent yield expression statement.\n",
      "For example, the yield statements\n",
      "\n",
      "   yield <expr>\n",
      "   yield from <expr>\n",
      "\n",
      "are equivalent to the yield expression statements\n",
      "\n",
      "   (yield <expr>)\n",
      "   (yield from <expr>)\n",
      "\n",
      "Yield expressions and statements are only used when defining a\n",
      "*generator* function, and are only used in the body of the generator\n",
      "function.  Using yield in a function definition is sufficient to cause\n",
      "that definition to create a generator function instead of a normal\n",
      "function.\n",
      "\n",
      "For full details of \"yield\" semantics, refer to the Yield expressions\n",
      "section.\n",
      "\n"
     ]
    }
   ],
   "source": [
    "help(\"yield\")"
   ]
  },
  {
   "cell_type": "code",
   "execution_count": 25,
   "id": "8601e580-ffd3-4900-b242-a89c9505fd05",
   "metadata": {},
   "outputs": [
    {
     "name": "stdout",
     "output_type": "stream",
     "text": [
      "[0, 2, 4, 6, 8, 10]\n"
     ]
    }
   ],
   "source": [
    "def numbers(x):\n",
    "    for i in range(x):\n",
    "        if i % 2 == 0:\n",
    "            yield i\n",
    "\n",
    "print(list(numbers(11)))"
   ]
  },
  {
   "cell_type": "markdown",
   "id": "e853e65b-726d-44f5-ab0e-429537013fb2",
   "metadata": {},
   "source": [
    "## Decorators\n",
    "Decorators provide a way to modify functions using other functions.\n",
    "This is ideal when you need to extend the functionality of functions that you don't want to modify. "
   ]
  },
  {
   "cell_type": "code",
   "execution_count": 26,
   "id": "c08a6992-c13b-4796-b720-57bf9a5d46db",
   "metadata": {},
   "outputs": [
    {
     "name": "stdout",
     "output_type": "stream",
     "text": [
      "============\n",
      "Hello world!\n",
      "============\n"
     ]
    }
   ],
   "source": [
    "def decor(func):\n",
    "    def wrap():\n",
    "        print(\"============\")\n",
    "        func()\n",
    "        print(\"============\")\n",
    "    return wrap\n",
    "\n",
    "def print_text():\n",
    "    print(\"Hello world!\")\n",
    "\n",
    "decorated = decor(print_text)\n",
    "decorated()"
   ]
  },
  {
   "cell_type": "code",
   "execution_count": 27,
   "id": "10fabcae-b50b-4d4d-80b1-0a81849d6fcc",
   "metadata": {},
   "outputs": [
    {
     "name": "stdout",
     "output_type": "stream",
     "text": [
      "============\n",
      "Hello world!\n",
      "============\n"
     ]
    }
   ],
   "source": [
    "def decor(func):\n",
    "    def wrap():\n",
    "        print(\"============\")\n",
    "        func()\n",
    "        print(\"============\")\n",
    "    return wrap\n",
    "\n",
    "def print_text():\n",
    "    print(\"Hello world!\")\n",
    "\n",
    "print_text = decor(print_text)\n",
    "\n",
    "print_text();"
   ]
  },
  {
   "attachments": {
    "f561193d-5de9-41cc-b623-361d2690cea3.png": {
     "image/png": "[encoded data removed]"
    }
   },
   "cell_type": "markdown",
   "id": "cdedd083-7cc6-400d-a67f-29963a16d062",
   "metadata": {},
   "source": [
    "![image.png](attachment:f561193d-5de9-41cc-b623-361d2690cea3.png)"
   ]
  },
  {
   "attachments": {
    "bf4020e7-8426-4221-837d-75b4c8ae7b22.png": {
     "image/png": "[encoded data removed]"
    }
   },
   "cell_type": "markdown",
   "id": "7ab9e20b-fec2-48bf-93cc-3816d517a52c",
   "metadata": {},
   "source": [
    "![image.png](attachment:bf4020e7-8426-4221-837d-75b4c8ae7b22.png)"
   ]
  },
  {
   "attachments": {
    "4adc36b5-830e-4b1c-ba73-319ca8b6a60e.png": {
     "image/png": "[encoded data removed]"
    }
   },
   "cell_type": "markdown",
   "id": "95068fdb-0627-4ced-8008-c960ada35e1a",
   "metadata": {},
   "source": [
    "![image.png](attachment:4adc36b5-830e-4b1c-ba73-319ca8b6a60e.png)"
   ]
  },
  {
   "attachments": {
    "6fb9dea2-1bd2-4d4f-9ad2-2fe116485f47.png": {
     "image/png": "[encoded data removed]"
    }
   },
   "cell_type": "markdown",
   "id": "0540caa7-7c3b-483f-b270-dcdb89ef99ac",
   "metadata": {},
   "source": [
    "![image.png](attachment:6fb9dea2-1bd2-4d4f-9ad2-2fe116485f47.png)"
   ]
  },
  {
   "attachments": {
    "641cf683-6ad1-44a1-9d07-817ea8982995.png": {
     "image/png": "[encoded data removed]"
    }
   },
   "cell_type": "markdown",
   "id": "216504a2-a4db-45f9-9433-6601d163df76",
   "metadata": {},
   "source": [
    "![image.png](attachment:641cf683-6ad1-44a1-9d07-817ea8982995.png)"
   ]
  },
  {
   "cell_type": "code",
   "execution_count": null,
   "id": "07550822-0778-4c9b-93f3-119494361e01",
   "metadata": {},
   "outputs": [],
   "source": []
  }
 ],
 "metadata": {
  "kernelspec": {
   "display_name": "Python 3 (ipykernel)",
   "language": "python",
   "name": "python3"
  },
  "language_info": {
   "codemirror_mode": {
    "name": "ipython",
    "version": 3
   },
   "file_extension": ".py",
   "mimetype": "text/x-python",
   "name": "python",
   "nbconvert_exporter": "python",
   "pygments_lexer": "ipython3",
   "version": "3.9.7"
  },
  "toc-autonumbering": false
 },
 "nbformat": 4,
 "nbformat_minor": 5
}
